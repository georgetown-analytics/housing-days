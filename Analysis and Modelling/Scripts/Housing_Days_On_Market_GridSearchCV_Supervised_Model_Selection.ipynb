{
 "cells": [
  {
   "cell_type": "markdown",
   "metadata": {},
   "source": [
    "# Housing Days On Market - GridSearchCV Supervised Model Selection\n",
    "\n",
    "## Information\n",
    "\n",
    "Housing related data sources were combined in the project SQLite database. The output CSV file is analyzed here. \n",
    "\n",
    "### Environment Information:\n",
    "\n",
    "Environment used for coding is as follow:\n",
    "\n",
    "Oracle VM VirtualBox running Ubuntu (guest) on Windows 10 (host).\n",
    "\n",
    "Current conda install:\n",
    "\n",
    "               platform : linux-64\n",
    "          conda version : 4.2.13\n",
    "       conda is private : False\n",
    "      conda-env version : 4.2.13\n",
    "    conda-build version : 1.20.0\n",
    "         python version : 2.7.11.final.0\n",
    "       requests version : 2.9.1\n",
    "       default environment : /home/jonathan/anaconda2/envs/py35\n",
    "       \n",
    "       Python 3.5.2 :: Anaconda 4.1.1 (64-bit)\n",
    "\n",
    "Package requirements:\n",
    "\n",
    "dill : 0.2.5, numpy : 1.11.3, pandas : 0.18.1, matplotlib : 1.5.1, scipy : 0.18.1, seaborn : 0.7.1, scikit-image : 0.12.3, scikit-learn : 0.18.1"
   ]
  },
  {
   "cell_type": "markdown",
   "metadata": {},
   "source": [
    "## Python Package(s) Used"
   ]
  },
  {
   "cell_type": "code",
   "execution_count": 1,
   "metadata": {
    "collapsed": true
   },
   "outputs": [],
   "source": [
    "import dill\n",
    "import numpy as np\n",
    "import pandas as pd\n",
    "import time"
   ]
  },
  {
   "cell_type": "code",
   "execution_count": 2,
   "metadata": {
    "collapsed": false
   },
   "outputs": [],
   "source": [
    "import matplotlib.pyplot as plt\n",
    "import seaborn as sns"
   ]
  },
  {
   "cell_type": "code",
   "execution_count": 3,
   "metadata": {
    "collapsed": false,
    "scrolled": true
   },
   "outputs": [],
   "source": [
    "from sklearn.ensemble import RandomForestRegressor, ExtraTreesRegressor, GradientBoostingRegressor\n",
    "from sklearn.linear_model import LassoCV, RidgeCV, ElasticNetCV, SGDRegressor, HuberRegressor, PassiveAggressiveRegressor, TheilSenRegressor\n",
    "from sklearn.metrics import explained_variance_score, mean_absolute_error, mean_squared_error, r2_score   \n",
    "from sklearn.model_selection import train_test_split, GridSearchCV\n",
    "from sklearn.neighbors import KNeighborsRegressor\n",
    "from sklearn.preprocessing import StandardScaler\n",
    "from sklearn.svm import SVR"
   ]
  },
  {
   "cell_type": "code",
   "execution_count": 4,
   "metadata": {
    "collapsed": true
   },
   "outputs": [],
   "source": [
    "%matplotlib inline"
   ]
  },
  {
   "cell_type": "code",
   "execution_count": 5,
   "metadata": {
    "collapsed": true
   },
   "outputs": [],
   "source": [
    "plt.style.use('seaborn-whitegrid')"
   ]
  },
  {
   "cell_type": "markdown",
   "metadata": {},
   "source": [
    "## Data and Methods"
   ]
  },
  {
   "cell_type": "markdown",
   "metadata": {},
   "source": [
    "### Data Fetching"
   ]
  },
  {
   "cell_type": "code",
   "execution_count": 6,
   "metadata": {
    "collapsed": false
   },
   "outputs": [
    {
     "data": {
      "text/html": [
       "<div>\n",
       "<table border=\"1\" class=\"dataframe\">\n",
       "  <thead>\n",
       "    <tr style=\"text-align: right;\">\n",
       "      <th></th>\n",
       "      <th>PctOfHomesDecreasingInValues</th>\n",
       "      <th>distance_grocery_km</th>\n",
       "      <th>distance_public_school_arts_center_km</th>\n",
       "      <th>distance_public_school_ye_km</th>\n",
       "      <th>ListPrice2_delta</th>\n",
       "      <th>FreddieMac15yr</th>\n",
       "      <th>PriceIndex</th>\n",
       "      <th>distance_cap_gain_school_km</th>\n",
       "      <th>SaleCount</th>\n",
       "      <th>TaxTotalLivingArea</th>\n",
       "      <th>count_metro_station_km</th>\n",
       "      <th>YearBuilt</th>\n",
       "      <th>Acres</th>\n",
       "      <th>Bedrooms</th>\n",
       "      <th>BasementY/N</th>\n",
       "      <th>Fireplaces</th>\n",
       "      <th>TotalTaxes2</th>\n",
       "      <th>DOMP</th>\n",
       "      <th>qcut_DOMP</th>\n",
       "    </tr>\n",
       "  </thead>\n",
       "  <tbody>\n",
       "    <tr>\n",
       "      <th>0</th>\n",
       "      <td>83.26</td>\n",
       "      <td>1.680077</td>\n",
       "      <td>2.074353</td>\n",
       "      <td>1.890599</td>\n",
       "      <td>-0.118838</td>\n",
       "      <td>4.33</td>\n",
       "      <td>167.140141</td>\n",
       "      <td>2.189428</td>\n",
       "      <td>2</td>\n",
       "      <td>1024.0</td>\n",
       "      <td>1</td>\n",
       "      <td>1950</td>\n",
       "      <td>0.082</td>\n",
       "      <td>3</td>\n",
       "      <td>1</td>\n",
       "      <td>0</td>\n",
       "      <td>2967.0</td>\n",
       "      <td>10</td>\n",
       "      <td>0</td>\n",
       "    </tr>\n",
       "    <tr>\n",
       "      <th>1</th>\n",
       "      <td>16.48</td>\n",
       "      <td>1.700697</td>\n",
       "      <td>1.779916</td>\n",
       "      <td>1.043636</td>\n",
       "      <td>-0.153386</td>\n",
       "      <td>3.03</td>\n",
       "      <td>171.196163</td>\n",
       "      <td>2.674176</td>\n",
       "      <td>1</td>\n",
       "      <td>1260.0</td>\n",
       "      <td>0</td>\n",
       "      <td>1987</td>\n",
       "      <td>0.000</td>\n",
       "      <td>2</td>\n",
       "      <td>0</td>\n",
       "      <td>1</td>\n",
       "      <td>2890.0</td>\n",
       "      <td>41</td>\n",
       "      <td>0</td>\n",
       "    </tr>\n",
       "    <tr>\n",
       "      <th>2</th>\n",
       "      <td>5.53</td>\n",
       "      <td>0.285119</td>\n",
       "      <td>2.958269</td>\n",
       "      <td>2.260644</td>\n",
       "      <td>-0.161353</td>\n",
       "      <td>3.35</td>\n",
       "      <td>188.939072</td>\n",
       "      <td>2.958276</td>\n",
       "      <td>1</td>\n",
       "      <td>682.0</td>\n",
       "      <td>13</td>\n",
       "      <td>1941</td>\n",
       "      <td>0.000</td>\n",
       "      <td>1</td>\n",
       "      <td>0</td>\n",
       "      <td>0</td>\n",
       "      <td>2500.0</td>\n",
       "      <td>12</td>\n",
       "      <td>0</td>\n",
       "    </tr>\n",
       "    <tr>\n",
       "      <th>3</th>\n",
       "      <td>5.03</td>\n",
       "      <td>0.285119</td>\n",
       "      <td>2.958269</td>\n",
       "      <td>2.260644</td>\n",
       "      <td>-0.310248</td>\n",
       "      <td>3.48</td>\n",
       "      <td>188.160922</td>\n",
       "      <td>2.958276</td>\n",
       "      <td>1</td>\n",
       "      <td>589.0</td>\n",
       "      <td>13</td>\n",
       "      <td>1941</td>\n",
       "      <td>0.000</td>\n",
       "      <td>1</td>\n",
       "      <td>0</td>\n",
       "      <td>0</td>\n",
       "      <td>2021.0</td>\n",
       "      <td>16</td>\n",
       "      <td>0</td>\n",
       "    </tr>\n",
       "    <tr>\n",
       "      <th>4</th>\n",
       "      <td>28.80</td>\n",
       "      <td>0.285119</td>\n",
       "      <td>2.958269</td>\n",
       "      <td>2.260644</td>\n",
       "      <td>-0.300308</td>\n",
       "      <td>3.25</td>\n",
       "      <td>195.086312</td>\n",
       "      <td>2.958276</td>\n",
       "      <td>1</td>\n",
       "      <td>532.0</td>\n",
       "      <td>13</td>\n",
       "      <td>1891</td>\n",
       "      <td>0.000</td>\n",
       "      <td>1</td>\n",
       "      <td>0</td>\n",
       "      <td>0</td>\n",
       "      <td>1944.0</td>\n",
       "      <td>5</td>\n",
       "      <td>0</td>\n",
       "    </tr>\n",
       "  </tbody>\n",
       "</table>\n",
       "</div>"
      ],
      "text/plain": [
       "   PctOfHomesDecreasingInValues  distance_grocery_km  \\\n",
       "0                         83.26             1.680077   \n",
       "1                         16.48             1.700697   \n",
       "2                          5.53             0.285119   \n",
       "3                          5.03             0.285119   \n",
       "4                         28.80             0.285119   \n",
       "\n",
       "   distance_public_school_arts_center_km  distance_public_school_ye_km  \\\n",
       "0                               2.074353                      1.890599   \n",
       "1                               1.779916                      1.043636   \n",
       "2                               2.958269                      2.260644   \n",
       "3                               2.958269                      2.260644   \n",
       "4                               2.958269                      2.260644   \n",
       "\n",
       "   ListPrice2_delta  FreddieMac15yr  PriceIndex  distance_cap_gain_school_km  \\\n",
       "0         -0.118838            4.33  167.140141                     2.189428   \n",
       "1         -0.153386            3.03  171.196163                     2.674176   \n",
       "2         -0.161353            3.35  188.939072                     2.958276   \n",
       "3         -0.310248            3.48  188.160922                     2.958276   \n",
       "4         -0.300308            3.25  195.086312                     2.958276   \n",
       "\n",
       "   SaleCount  TaxTotalLivingArea  count_metro_station_km  YearBuilt  Acres  \\\n",
       "0          2              1024.0                       1       1950  0.082   \n",
       "1          1              1260.0                       0       1987  0.000   \n",
       "2          1               682.0                      13       1941  0.000   \n",
       "3          1               589.0                      13       1941  0.000   \n",
       "4          1               532.0                      13       1891  0.000   \n",
       "\n",
       "   Bedrooms  BasementY/N  Fireplaces  TotalTaxes2  DOMP  qcut_DOMP  \n",
       "0         3            1           0       2967.0    10          0  \n",
       "1         2            0           1       2890.0    41          0  \n",
       "2         1            0           0       2500.0    12          0  \n",
       "3         1            0           0       2021.0    16          0  \n",
       "4         1            0           0       1944.0     5          0  "
      ]
     },
     "execution_count": 6,
     "metadata": {},
     "output_type": "execute_result"
    }
   ],
   "source": [
    "# Import data csv into dataframe\n",
    "df = pd.read_csv('df_RFECV_feature_selection_LCV_eps_01_qcut_1,1_target_DOMP_output.csv')\n",
    "df = df.drop('Unnamed: 0', axis = 1)\n",
    "df.head()"
   ]
  },
  {
   "cell_type": "markdown",
   "metadata": {},
   "source": [
    "## Regression Modelling"
   ]
  },
  {
   "cell_type": "markdown",
   "metadata": {},
   "source": [
    "### Feature Selection"
   ]
  },
  {
   "cell_type": "code",
   "execution_count": 7,
   "metadata": {
    "collapsed": true
   },
   "outputs": [],
   "source": [
    "df_2 = df.copy()"
   ]
  },
  {
   "cell_type": "code",
   "execution_count": 8,
   "metadata": {
    "collapsed": false
   },
   "outputs": [
    {
     "name": "stdout",
     "output_type": "stream",
     "text": [
      "0    13725\n",
      "Name: qcut_DOMP, dtype: int64\n"
     ]
    }
   ],
   "source": [
    "# Performing feature selection on full dataset, resulted in best_score ~ 0.1.\n",
    "# Qcutting to separate out data.\n",
    "# qcut value = 1 is dataset as is.\n",
    "\n",
    "# Define target for process\n",
    "target_col_str = 'DOMP'\n",
    "\n",
    "# Qcut target data\n",
    "df_2['qcut_'+target_col_str] = pd.qcut(df_2[target_col_str], 1, labels = False)\n",
    "\n",
    "# Print out total row counts for each group\n",
    "print(df_2['qcut_'+target_col_str].value_counts())\n",
    "\n",
    "# Select specific range\n",
    "df_2 = df_2[df_2['qcut_'+target_col_str] == 0]\n",
    "\n",
    "# Define qcut for process\n",
    "qcut_str = '1,1'\n",
    "\n",
    "# Save dataframe to disk\n",
    "df_2.to_csv('df_GridSearchCV_model_selection_qcut_'+qcut_str+'_target_'+target_col_str+'_save_point.csv')\n",
    "\n",
    "# Copy dataframe for dropping columns and determining categorical columns\n",
    "df_3 = df_2.copy()\n",
    "\n",
    "# Drop target column and qcut column for test-train-split\n",
    "df_3 = df_3.drop(target_col_str, axis=1)\n",
    "df_3 = df_3.drop('qcut_'+target_col_str, axis=1)"
   ]
  },
  {
   "cell_type": "code",
   "execution_count": 9,
   "metadata": {
    "collapsed": false
   },
   "outputs": [],
   "source": [
    "# Checking for grouped categorical columns\n",
    "#df_3.columns[0:]"
   ]
  },
  {
   "cell_type": "code",
   "execution_count": 10,
   "metadata": {
    "collapsed": false
   },
   "outputs": [],
   "source": [
    "# Columns that are not scaled since they are categorical\n",
    "# cat_df = df_3[['MS_IsTitleI','ES_IsTitleI','BasementY/N']]\n",
    "# cat_df_2 = df_3.ix[:,39:43]\n",
    "# cat_df_3 = df_3.ix[:,48:52]\n",
    "# cat_df_4 = df_3.ix[:,57:61]\n",
    "# cat_df_5 = df_3.ix[:,93:178]\n",
    "# cat_df_6 = pd.concat([cat_df,cat_df_2,cat_df_3,cat_df_4,cat_df_5],axis=1)\n",
    "# CATEGORICAL = [x for x in cat_df_6.columns]"
   ]
  },
  {
   "cell_type": "code",
   "execution_count": 11,
   "metadata": {
    "collapsed": true
   },
   "outputs": [],
   "source": [
    "CATEGORICAL = ['BasementY/N','ES_IsCharter','ES_IsMagnet','ES_IsTitleI','ES_IsVirtual',\n",
    "               'HS_IsCharter','HS_IsMagnet','HS_IsTitleI','HS_IsVirtual','MS_IsCharter',\n",
    "               'MS_IsMagnet','MS_IsTitleI','MS_IsVirtual','zip_20001','zip_20002','zip_20004',\n",
    "               'zip_20005','zip_20007','zip_20008','zip_20009','zip_20010','zip_20011',\n",
    "               'zip_20012','zip_20015','zip_20017','zip_20018','zip_20019','zip_20020',\n",
    "               'zip_20032','zip_20036','zip_20037','ldmonth_1','ldmonth_2','ldmonth_3',\n",
    "               'ldmonth_4','ldmonth_5','ldmonth_6','ldmonth_7','ldmonth_8','ldmonth_9',\n",
    "               'ldmonth_10','ldmonth_11','ldmonth_12','ldday_1','ldday_2','ldday_3',\n",
    "               'ldday_4','ldday_5','ldday_6','ldday_7','ldday_8','ldday_9','ldday_10',\n",
    "               'ldday_11','ldday_12','ldday_13','ldday_14','ldday_15','ldday_16','ldday_17',\n",
    "               'ldday_18','ldday_19','ldday_20','ldday_21','ldday_22','ldday_23','ldday_24',\n",
    "               'ldday_25','ldday_26','ldday_27','ldday_28','ldday_29','ldday_30','ldday_31',\n",
    "               'ESSR_0.0','ESSR_1.0','ESSR_2.0','ESSR_3.0','ESSR_4.0','ESSR_5.0','HSSR_0.0',\n",
    "               'HSSR_1.0','HSSR_2.0','HSSR_3.0','HSSR_4.0','MSSR_0.0','MSSR_1.0','MSSR_2.0',\n",
    "               'MSSR_3.0','MSSR_4.0','MSSR_5.0']"
   ]
  },
  {
   "cell_type": "code",
   "execution_count": 12,
   "metadata": {
    "collapsed": true
   },
   "outputs": [],
   "source": [
    "# Parameters for estimator GridSearch\n",
    "\n",
    "# MAE not used for rfr,etr,or gbr. Program would crash or hit memory limitations \n",
    "# if used with MSE.\n",
    "rfr_parameters = {'n_estimators':[100], \n",
    "              'criterion':['mse'],\n",
    "              'max_features':['auto'],\n",
    "              'min_samples_leaf':[1,2,5],\n",
    "              'random_state':[1]}\n",
    "\n",
    "etr_parameters = {'n_estimators':[100], \n",
    "              'criterion':['mse'],\n",
    "              'max_features':['auto'],\n",
    "              'min_samples_leaf':[1,2,5],\n",
    "              'random_state':[1]}\n",
    "\n",
    "gbr_parameters = {'loss':['ls','lad','huber'], \n",
    "              'learning_rate':[0.1],\n",
    "              'n_estimators':[100],\n",
    "              'criterion':['friedman_mse','mse'],\n",
    "              'min_samples_leaf':[1,2,5],\n",
    "              'max_features':['auto'],    \n",
    "              'random_state':[1]}\n",
    "\n",
    "sgdr_parameters = {'loss':['squared_loss','huber','epsilon_insensitive'], \n",
    "              'alpha':[0.0001,0.001,0.01,0.1,1.0],\n",
    "              'fit_intercept':[True,False],\n",
    "              'n_iter':[5,10],     \n",
    "              'random_state':[1]}\n",
    "\n",
    "tsr_parameters = {'fit_intercept':[True,False],\n",
    "              'max_iter':[400],     \n",
    "              'random_state':[1]}\n",
    "\n",
    "par_parameters = {'loss':['epsilon_insensitive','squared_epsilon_insensitive'],\n",
    "              'C':[0.001,0.01,0.1,1.0,10.0],\n",
    "              'fit_intercept':[True,False],\n",
    "              'n_iter':[5,10],     \n",
    "              'random_state':[1]}\n",
    "\n",
    "hr_parameters = {'alpha':[0.0001,0.001,0.01,0.1,1.0],\n",
    "              'fit_intercept':[True,False],\n",
    "              'max_iter':[200]}\n",
    "\n",
    "lcv_parameters = {'eps':[0.001,0.01,0.1],\n",
    "              'fit_intercept':[True,False],\n",
    "              'cv':[4],\n",
    "              'max_iter':[25000],    \n",
    "              'random_state':[1]}\n",
    "\n",
    "rcv_parameters = {'alphas':[np.array([0.1,1.0,10.0])],\n",
    "              'fit_intercept':[True,False],\n",
    "              'cv':[4]}\n",
    "\n",
    "encv_parameters = {'l1_ratio':[0.2,0.4,0.6,0.8],\n",
    "              'eps':[0.001,0.01,0.1],\n",
    "              'fit_intercept':[True,False],\n",
    "              'cv':[4],\n",
    "              'max_iter':[25000],    \n",
    "              'random_state':[1]}\n",
    "\n",
    "knnr_parameters = {'n_neighbors':[2,4,6,8,10,12,14,16,18,20], \n",
    "              'weights':['uniform','distance'],\n",
    "              'algorithm':['ball_tree','kd_tree']}\n",
    "\n",
    "svr_parameters = {'C':[0.01,0.1,1.0], \n",
    "              'kernel':['poly','rbf'],\n",
    "              'degree':[1,2,3]}"
   ]
  },
  {
   "cell_type": "code",
   "execution_count": 13,
   "metadata": {
    "collapsed": false
   },
   "outputs": [],
   "source": [
    "def gridsearch_model_selection(df,model_estimator,model_estimator_str,grid_params,eps_str,CATEGORICAL,qcut_str,target_str):\n",
    "\n",
    "    \"\"\"\n",
    "    Perform GridSearchCV on different estimators using the dataframe from feature selection.\n",
    "    The function test-train-splits the dataset, and performs GridSearchCV. Individual models\n",
    "    are saved as dills, and the regression metrics are saved to csv.\n",
    "    \"\"\"\n",
    "    \n",
    "    # Start clock for run time\n",
    "    start  = time.time()\n",
    "    \n",
    "    # Copy dataframe\n",
    "    df_2 = df.copy()\n",
    "    \n",
    "    # Drop target column and qcut column for test-train-split\n",
    "    df_2 = df_2.drop(target_str, axis=1)\n",
    "    df_2 = df_2.drop('qcut_'+target_str, axis=1)\n",
    "    \n",
    "    # Test-train split. Using 70/30% split.\n",
    "    X_train, X_test, y_train, y_test = train_test_split(df_2, df[target_str], train_size=0.70,\n",
    "                                                    random_state=1)    \n",
    "    \n",
    "    # Standardizing training and testing data. Standardized separately to avoid information\n",
    "    # leaking from the training set to the testing set. Categorical data not scaled.\n",
    "    for i in X_train.columns.difference(CATEGORICAL):\n",
    "        X_train[i] = StandardScaler().fit_transform(X_train[i].values.reshape(-1,1))\n",
    "\n",
    "    for i in X_test.columns.difference(CATEGORICAL):\n",
    "        X_test[i] = StandardScaler().fit_transform(X_test[i].values.reshape(-1,1))\n",
    "        \n",
    "    # GridSearchCV for estimator\n",
    "    grid = GridSearchCV(model_estimator, grid_params, cv = 12, n_jobs = -1, verbose=True)\n",
    "    grid.fit(X_train, y_train)\n",
    "    \n",
    "    # Print out best score and respective parameters\n",
    "    print('Best score from GridSearchCV for estimator '+model_estimator_str+' is ',grid.best_score_)\n",
    "    #print \"Best model parameters from GridSearch are \",grid.best_estimator_.get_params()\n",
    "    \n",
    "    # Save model to disk\n",
    "    dill.dump(grid, open('GridSearchCV_model_selection_'+model_estimator_str+'_eps_'+eps_str+'_qcut_'+qcut_str+'_target_'+target_str, 'wb'))\n",
    "    dill.dump(grid.best_estimator_, open('GridSearchCV_model_selection_best_'+model_estimator_str+'_eps_'+eps_str+'_qcut_'+qcut_str+'_target_'+target_str, 'wb'))\n",
    "\n",
    "    # Predicted target values\n",
    "    y_pred = grid.predict(X_test)\n",
    "   \n",
    "    # Store regression metrics\n",
    "    exp_var_score = explained_variance_score(y_test, y_pred)\n",
    "    #r2 = r2_score(y_test, y_pred)\n",
    "    mae = mean_absolute_error(y_test, y_pred)\n",
    "    mse = mean_squared_error(y_test, y_pred)    \n",
    "\n",
    "    # Create dataframe to save regression metrics\n",
    "    df_combination = pd.DataFrame(columns = {'estimator','r2_score','exp_var_score',\n",
    "                                             'mae','mse','process_time'})\n",
    "    estimator_list_lst = []\n",
    "    exp_var_score_lst = []\n",
    "    r2_score_lst = []\n",
    "    mae_lst = []\n",
    "    mse_lst = []\n",
    "    process_time_lst = []\n",
    "    \n",
    "    # Save metrics to separate lists for inclusion in dataframe. Saving directly to dataframe\n",
    "    # resulted in typeerrors being flagged.\n",
    "    estimator_list_lst.append(model_estimator_str)\n",
    "    exp_var_score_lst.append(exp_var_score)\n",
    "    r2_score_lst.append(grid.best_score_) # best_score here is the r2_score, since GridSearchCV\n",
    "                                          # uses the default score metrics from the estimator \n",
    "    mae_lst.append(mae)\n",
    "    mse_lst.append(mse)    \n",
    "    process_time_lst.append(time.time()-start)\n",
    "    \n",
    "    # Add lists as series to dataframe, and save file to disk.\n",
    "    df_combination['estimator'] = estimator_list_lst\n",
    "    df_combination['exp_var_score'] = exp_var_score_lst\n",
    "    df_combination['r2_score'] = r2_score_lst\n",
    "    df_combination['mae'] = mae_lst\n",
    "    df_combination['mse'] = mse_lst\n",
    "    df_combination['process_time'] = process_time_lst\n",
    "    df_combination.to_csv('GridSearchCV_model_selection_'+model_estimator_str+'_eps_'+eps_str+'_qcut_'+qcut_str+'_target_'+target_str+'_regression_metrics.csv')\n",
    "    \n",
    "    # Print run time\n",
    "    print(\"\\nBuild and Validation took {:0.3f} seconds\\n\".format(time.time()-start))   "
   ]
  },
  {
   "cell_type": "code",
   "execution_count": 14,
   "metadata": {
    "collapsed": false
   },
   "outputs": [
    {
     "name": "stderr",
     "output_type": "stream",
     "text": [
      "/home/jonathan/anaconda2/envs/py35/lib/python3.5/site-packages/ipykernel/__main__.py:26: SettingWithCopyWarning: \n",
      "A value is trying to be set on a copy of a slice from a DataFrame.\n",
      "Try using .loc[row_indexer,col_indexer] = value instead\n",
      "\n",
      "See the caveats in the documentation: http://pandas.pydata.org/pandas-docs/stable/indexing.html#indexing-view-versus-copy\n",
      "/home/jonathan/anaconda2/envs/py35/lib/python3.5/site-packages/sklearn/utils/validation.py:429: DataConversionWarning: Data with input dtype int64 was converted to float64 by StandardScaler.\n",
      "  warnings.warn(msg, _DataConversionWarning)\n",
      "/home/jonathan/anaconda2/envs/py35/lib/python3.5/site-packages/ipykernel/__main__.py:29: SettingWithCopyWarning: \n",
      "A value is trying to be set on a copy of a slice from a DataFrame.\n",
      "Try using .loc[row_indexer,col_indexer] = value instead\n",
      "\n",
      "See the caveats in the documentation: http://pandas.pydata.org/pandas-docs/stable/indexing.html#indexing-view-versus-copy\n"
     ]
    },
    {
     "name": "stdout",
     "output_type": "stream",
     "text": [
      "Fitting 12 folds for each of 60 candidates, totalling 720 fits\n"
     ]
    },
    {
     "name": "stderr",
     "output_type": "stream",
     "text": [
      "[Parallel(n_jobs=-1)]: Done  76 tasks      | elapsed:    3.5s\n",
      "[Parallel(n_jobs=-1)]: Done 376 tasks      | elapsed:   16.0s\n",
      "[Parallel(n_jobs=-1)]: Done 720 out of 720 | elapsed:   31.0s finished\n",
      "/home/jonathan/anaconda2/envs/py35/lib/python3.5/site-packages/ipykernel/__main__.py:26: SettingWithCopyWarning: \n",
      "A value is trying to be set on a copy of a slice from a DataFrame.\n",
      "Try using .loc[row_indexer,col_indexer] = value instead\n",
      "\n",
      "See the caveats in the documentation: http://pandas.pydata.org/pandas-docs/stable/indexing.html#indexing-view-versus-copy\n",
      "/home/jonathan/anaconda2/envs/py35/lib/python3.5/site-packages/sklearn/utils/validation.py:429: DataConversionWarning: Data with input dtype int64 was converted to float64 by StandardScaler.\n",
      "  warnings.warn(msg, _DataConversionWarning)\n"
     ]
    },
    {
     "name": "stdout",
     "output_type": "stream",
     "text": [
      "Best score from GridSearchCV for estimator SGDR is  0.0989913480871\n",
      "\n",
      "Build and Validation took 33.239 seconds\n",
      "\n"
     ]
    },
    {
     "name": "stderr",
     "output_type": "stream",
     "text": [
      "/home/jonathan/anaconda2/envs/py35/lib/python3.5/site-packages/ipykernel/__main__.py:29: SettingWithCopyWarning: \n",
      "A value is trying to be set on a copy of a slice from a DataFrame.\n",
      "Try using .loc[row_indexer,col_indexer] = value instead\n",
      "\n",
      "See the caveats in the documentation: http://pandas.pydata.org/pandas-docs/stable/indexing.html#indexing-view-versus-copy\n"
     ]
    },
    {
     "name": "stdout",
     "output_type": "stream",
     "text": [
      "Fitting 12 folds for each of 2 candidates, totalling 24 fits\n"
     ]
    },
    {
     "name": "stderr",
     "output_type": "stream",
     "text": [
      "[Parallel(n_jobs=-1)]: Done  24 out of  24 | elapsed:  1.7min finished\n"
     ]
    },
    {
     "name": "stdout",
     "output_type": "stream",
     "text": [
      "Best score from GridSearchCV for estimator TSR is  0.0924763568806\n",
      "\n",
      "Build and Validation took 107.388 seconds\n",
      "\n"
     ]
    },
    {
     "name": "stderr",
     "output_type": "stream",
     "text": [
      "/home/jonathan/anaconda2/envs/py35/lib/python3.5/site-packages/ipykernel/__main__.py:26: SettingWithCopyWarning: \n",
      "A value is trying to be set on a copy of a slice from a DataFrame.\n",
      "Try using .loc[row_indexer,col_indexer] = value instead\n",
      "\n",
      "See the caveats in the documentation: http://pandas.pydata.org/pandas-docs/stable/indexing.html#indexing-view-versus-copy\n",
      "/home/jonathan/anaconda2/envs/py35/lib/python3.5/site-packages/sklearn/utils/validation.py:429: DataConversionWarning: Data with input dtype int64 was converted to float64 by StandardScaler.\n",
      "  warnings.warn(msg, _DataConversionWarning)\n",
      "/home/jonathan/anaconda2/envs/py35/lib/python3.5/site-packages/ipykernel/__main__.py:29: SettingWithCopyWarning: \n",
      "A value is trying to be set on a copy of a slice from a DataFrame.\n",
      "Try using .loc[row_indexer,col_indexer] = value instead\n",
      "\n",
      "See the caveats in the documentation: http://pandas.pydata.org/pandas-docs/stable/indexing.html#indexing-view-versus-copy\n"
     ]
    },
    {
     "name": "stdout",
     "output_type": "stream",
     "text": [
      "Fitting 12 folds for each of 40 candidates, totalling 480 fits\n"
     ]
    },
    {
     "name": "stderr",
     "output_type": "stream",
     "text": [
      "[Parallel(n_jobs=-1)]: Done  76 tasks      | elapsed:    3.4s\n",
      "[Parallel(n_jobs=-1)]: Done 376 tasks      | elapsed:   14.1s\n",
      "[Parallel(n_jobs=-1)]: Done 480 out of 480 | elapsed:   17.5s finished\n"
     ]
    },
    {
     "name": "stdout",
     "output_type": "stream",
     "text": [
      "Best score from GridSearchCV for estimator PAR is  0.0811737652717\n",
      "\n",
      "Build and Validation took 20.044 seconds\n",
      "\n"
     ]
    },
    {
     "name": "stderr",
     "output_type": "stream",
     "text": [
      "/home/jonathan/anaconda2/envs/py35/lib/python3.5/site-packages/ipykernel/__main__.py:26: SettingWithCopyWarning: \n",
      "A value is trying to be set on a copy of a slice from a DataFrame.\n",
      "Try using .loc[row_indexer,col_indexer] = value instead\n",
      "\n",
      "See the caveats in the documentation: http://pandas.pydata.org/pandas-docs/stable/indexing.html#indexing-view-versus-copy\n",
      "/home/jonathan/anaconda2/envs/py35/lib/python3.5/site-packages/sklearn/utils/validation.py:429: DataConversionWarning: Data with input dtype int64 was converted to float64 by StandardScaler.\n",
      "  warnings.warn(msg, _DataConversionWarning)\n",
      "/home/jonathan/anaconda2/envs/py35/lib/python3.5/site-packages/ipykernel/__main__.py:29: SettingWithCopyWarning: \n",
      "A value is trying to be set on a copy of a slice from a DataFrame.\n",
      "Try using .loc[row_indexer,col_indexer] = value instead\n",
      "\n",
      "See the caveats in the documentation: http://pandas.pydata.org/pandas-docs/stable/indexing.html#indexing-view-versus-copy\n"
     ]
    },
    {
     "name": "stdout",
     "output_type": "stream",
     "text": [
      "Fitting 12 folds for each of 10 candidates, totalling 120 fits\n"
     ]
    },
    {
     "name": "stderr",
     "output_type": "stream",
     "text": [
      "[Parallel(n_jobs=-1)]: Done  42 tasks      | elapsed:    5.2s\n",
      "[Parallel(n_jobs=-1)]: Done 120 out of 120 | elapsed:   12.8s finished\n"
     ]
    },
    {
     "name": "stdout",
     "output_type": "stream",
     "text": [
      "Best score from GridSearchCV for estimator HR is  0.00663109202387\n",
      "\n",
      "Build and Validation took 15.091 seconds\n",
      "\n"
     ]
    },
    {
     "name": "stderr",
     "output_type": "stream",
     "text": [
      "/home/jonathan/anaconda2/envs/py35/lib/python3.5/site-packages/ipykernel/__main__.py:26: SettingWithCopyWarning: \n",
      "A value is trying to be set on a copy of a slice from a DataFrame.\n",
      "Try using .loc[row_indexer,col_indexer] = value instead\n",
      "\n",
      "See the caveats in the documentation: http://pandas.pydata.org/pandas-docs/stable/indexing.html#indexing-view-versus-copy\n",
      "/home/jonathan/anaconda2/envs/py35/lib/python3.5/site-packages/sklearn/utils/validation.py:429: DataConversionWarning: Data with input dtype int64 was converted to float64 by StandardScaler.\n",
      "  warnings.warn(msg, _DataConversionWarning)\n",
      "/home/jonathan/anaconda2/envs/py35/lib/python3.5/site-packages/ipykernel/__main__.py:29: SettingWithCopyWarning: \n",
      "A value is trying to be set on a copy of a slice from a DataFrame.\n",
      "Try using .loc[row_indexer,col_indexer] = value instead\n",
      "\n",
      "See the caveats in the documentation: http://pandas.pydata.org/pandas-docs/stable/indexing.html#indexing-view-versus-copy\n"
     ]
    },
    {
     "name": "stdout",
     "output_type": "stream",
     "text": [
      "Fitting 12 folds for each of 6 candidates, totalling 72 fits\n"
     ]
    },
    {
     "name": "stderr",
     "output_type": "stream",
     "text": [
      "[Parallel(n_jobs=-1)]: Done  42 tasks      | elapsed:   11.2s\n",
      "[Parallel(n_jobs=-1)]: Done  72 out of  72 | elapsed:   17.9s finished\n"
     ]
    },
    {
     "name": "stdout",
     "output_type": "stream",
     "text": [
      "Best score from GridSearchCV for estimator LCV is  0.10780770643\n",
      "\n",
      "Build and Validation took 20.415 seconds\n",
      "\n"
     ]
    },
    {
     "name": "stderr",
     "output_type": "stream",
     "text": [
      "/home/jonathan/anaconda2/envs/py35/lib/python3.5/site-packages/ipykernel/__main__.py:26: SettingWithCopyWarning: \n",
      "A value is trying to be set on a copy of a slice from a DataFrame.\n",
      "Try using .loc[row_indexer,col_indexer] = value instead\n",
      "\n",
      "See the caveats in the documentation: http://pandas.pydata.org/pandas-docs/stable/indexing.html#indexing-view-versus-copy\n",
      "/home/jonathan/anaconda2/envs/py35/lib/python3.5/site-packages/sklearn/utils/validation.py:429: DataConversionWarning: Data with input dtype int64 was converted to float64 by StandardScaler.\n",
      "  warnings.warn(msg, _DataConversionWarning)\n",
      "/home/jonathan/anaconda2/envs/py35/lib/python3.5/site-packages/ipykernel/__main__.py:29: SettingWithCopyWarning: \n",
      "A value is trying to be set on a copy of a slice from a DataFrame.\n",
      "Try using .loc[row_indexer,col_indexer] = value instead\n",
      "\n",
      "See the caveats in the documentation: http://pandas.pydata.org/pandas-docs/stable/indexing.html#indexing-view-versus-copy\n"
     ]
    },
    {
     "name": "stdout",
     "output_type": "stream",
     "text": [
      "Fitting 12 folds for each of 2 candidates, totalling 24 fits\n"
     ]
    },
    {
     "name": "stderr",
     "output_type": "stream",
     "text": [
      "[Parallel(n_jobs=-1)]: Done  24 out of  24 | elapsed:    6.8s finished\n"
     ]
    },
    {
     "name": "stdout",
     "output_type": "stream",
     "text": [
      "Best score from GridSearchCV for estimator RCV is  0.107808716234\n",
      "\n",
      "Build and Validation took 9.234 seconds\n",
      "\n"
     ]
    },
    {
     "name": "stderr",
     "output_type": "stream",
     "text": [
      "/home/jonathan/anaconda2/envs/py35/lib/python3.5/site-packages/ipykernel/__main__.py:26: SettingWithCopyWarning: \n",
      "A value is trying to be set on a copy of a slice from a DataFrame.\n",
      "Try using .loc[row_indexer,col_indexer] = value instead\n",
      "\n",
      "See the caveats in the documentation: http://pandas.pydata.org/pandas-docs/stable/indexing.html#indexing-view-versus-copy\n",
      "/home/jonathan/anaconda2/envs/py35/lib/python3.5/site-packages/sklearn/utils/validation.py:429: DataConversionWarning: Data with input dtype int64 was converted to float64 by StandardScaler.\n",
      "  warnings.warn(msg, _DataConversionWarning)\n",
      "/home/jonathan/anaconda2/envs/py35/lib/python3.5/site-packages/ipykernel/__main__.py:29: SettingWithCopyWarning: \n",
      "A value is trying to be set on a copy of a slice from a DataFrame.\n",
      "Try using .loc[row_indexer,col_indexer] = value instead\n",
      "\n",
      "See the caveats in the documentation: http://pandas.pydata.org/pandas-docs/stable/indexing.html#indexing-view-versus-copy\n"
     ]
    },
    {
     "name": "stdout",
     "output_type": "stream",
     "text": [
      "Fitting 12 folds for each of 24 candidates, totalling 288 fits\n"
     ]
    },
    {
     "name": "stderr",
     "output_type": "stream",
     "text": [
      "[Parallel(n_jobs=-1)]: Done  42 tasks      | elapsed:   11.6s\n",
      "[Parallel(n_jobs=-1)]: Done 192 tasks      | elapsed:   48.1s\n",
      "[Parallel(n_jobs=-1)]: Done 288 out of 288 | elapsed:  1.1min finished\n"
     ]
    },
    {
     "name": "stdout",
     "output_type": "stream",
     "text": [
      "Best score from GridSearchCV for estimator ENCV is  0.108424140164\n",
      "\n",
      "Build and Validation took 70.370 seconds\n",
      "\n"
     ]
    },
    {
     "name": "stderr",
     "output_type": "stream",
     "text": [
      "/home/jonathan/anaconda2/envs/py35/lib/python3.5/site-packages/ipykernel/__main__.py:26: SettingWithCopyWarning: \n",
      "A value is trying to be set on a copy of a slice from a DataFrame.\n",
      "Try using .loc[row_indexer,col_indexer] = value instead\n",
      "\n",
      "See the caveats in the documentation: http://pandas.pydata.org/pandas-docs/stable/indexing.html#indexing-view-versus-copy\n",
      "/home/jonathan/anaconda2/envs/py35/lib/python3.5/site-packages/sklearn/utils/validation.py:429: DataConversionWarning: Data with input dtype int64 was converted to float64 by StandardScaler.\n",
      "  warnings.warn(msg, _DataConversionWarning)\n",
      "/home/jonathan/anaconda2/envs/py35/lib/python3.5/site-packages/ipykernel/__main__.py:29: SettingWithCopyWarning: \n",
      "A value is trying to be set on a copy of a slice from a DataFrame.\n",
      "Try using .loc[row_indexer,col_indexer] = value instead\n",
      "\n",
      "See the caveats in the documentation: http://pandas.pydata.org/pandas-docs/stable/indexing.html#indexing-view-versus-copy\n"
     ]
    },
    {
     "name": "stdout",
     "output_type": "stream",
     "text": [
      "Fitting 12 folds for each of 40 candidates, totalling 480 fits\n"
     ]
    },
    {
     "name": "stderr",
     "output_type": "stream",
     "text": [
      "[Parallel(n_jobs=-1)]: Done  42 tasks      | elapsed:   58.6s\n",
      "[Parallel(n_jobs=-1)]: Done 192 tasks      | elapsed:  4.8min\n",
      "[Parallel(n_jobs=-1)]: Done 442 tasks      | elapsed:  9.2min\n",
      "[Parallel(n_jobs=-1)]: Done 480 out of 480 | elapsed:  9.8min finished\n"
     ]
    },
    {
     "name": "stdout",
     "output_type": "stream",
     "text": [
      "Best score from GridSearchCV for estimator KNNR is  0.116250792895\n",
      "\n",
      "Build and Validation took 592.425 seconds\n",
      "\n"
     ]
    },
    {
     "name": "stderr",
     "output_type": "stream",
     "text": [
      "/home/jonathan/anaconda2/envs/py35/lib/python3.5/site-packages/ipykernel/__main__.py:26: SettingWithCopyWarning: \n",
      "A value is trying to be set on a copy of a slice from a DataFrame.\n",
      "Try using .loc[row_indexer,col_indexer] = value instead\n",
      "\n",
      "See the caveats in the documentation: http://pandas.pydata.org/pandas-docs/stable/indexing.html#indexing-view-versus-copy\n",
      "/home/jonathan/anaconda2/envs/py35/lib/python3.5/site-packages/sklearn/utils/validation.py:429: DataConversionWarning: Data with input dtype int64 was converted to float64 by StandardScaler.\n",
      "  warnings.warn(msg, _DataConversionWarning)\n",
      "/home/jonathan/anaconda2/envs/py35/lib/python3.5/site-packages/ipykernel/__main__.py:29: SettingWithCopyWarning: \n",
      "A value is trying to be set on a copy of a slice from a DataFrame.\n",
      "Try using .loc[row_indexer,col_indexer] = value instead\n",
      "\n",
      "See the caveats in the documentation: http://pandas.pydata.org/pandas-docs/stable/indexing.html#indexing-view-versus-copy\n"
     ]
    },
    {
     "name": "stdout",
     "output_type": "stream",
     "text": [
      "Fitting 12 folds for each of 3 candidates, totalling 36 fits\n"
     ]
    },
    {
     "name": "stderr",
     "output_type": "stream",
     "text": [
      "[Parallel(n_jobs=-1)]: Done  36 out of  36 | elapsed:  1.8min finished\n"
     ]
    },
    {
     "name": "stdout",
     "output_type": "stream",
     "text": [
      "Best score from GridSearchCV for estimator RFR is  0.125658075903\n",
      "\n",
      "Build and Validation took 119.405 seconds\n",
      "\n"
     ]
    },
    {
     "name": "stderr",
     "output_type": "stream",
     "text": [
      "/home/jonathan/anaconda2/envs/py35/lib/python3.5/site-packages/ipykernel/__main__.py:26: SettingWithCopyWarning: \n",
      "A value is trying to be set on a copy of a slice from a DataFrame.\n",
      "Try using .loc[row_indexer,col_indexer] = value instead\n",
      "\n",
      "See the caveats in the documentation: http://pandas.pydata.org/pandas-docs/stable/indexing.html#indexing-view-versus-copy\n",
      "/home/jonathan/anaconda2/envs/py35/lib/python3.5/site-packages/sklearn/utils/validation.py:429: DataConversionWarning: Data with input dtype int64 was converted to float64 by StandardScaler.\n",
      "  warnings.warn(msg, _DataConversionWarning)\n",
      "/home/jonathan/anaconda2/envs/py35/lib/python3.5/site-packages/ipykernel/__main__.py:29: SettingWithCopyWarning: \n",
      "A value is trying to be set on a copy of a slice from a DataFrame.\n",
      "Try using .loc[row_indexer,col_indexer] = value instead\n",
      "\n",
      "See the caveats in the documentation: http://pandas.pydata.org/pandas-docs/stable/indexing.html#indexing-view-versus-copy\n"
     ]
    },
    {
     "name": "stdout",
     "output_type": "stream",
     "text": [
      "Fitting 12 folds for each of 3 candidates, totalling 36 fits\n"
     ]
    },
    {
     "name": "stderr",
     "output_type": "stream",
     "text": [
      "[Parallel(n_jobs=-1)]: Done  36 out of  36 | elapsed:   37.3s finished\n"
     ]
    },
    {
     "name": "stdout",
     "output_type": "stream",
     "text": [
      "Best score from GridSearchCV for estimator ETR is  0.138451110804\n",
      "\n",
      "Build and Validation took 42.085 seconds\n",
      "\n"
     ]
    },
    {
     "name": "stderr",
     "output_type": "stream",
     "text": [
      "/home/jonathan/anaconda2/envs/py35/lib/python3.5/site-packages/ipykernel/__main__.py:26: SettingWithCopyWarning: \n",
      "A value is trying to be set on a copy of a slice from a DataFrame.\n",
      "Try using .loc[row_indexer,col_indexer] = value instead\n",
      "\n",
      "See the caveats in the documentation: http://pandas.pydata.org/pandas-docs/stable/indexing.html#indexing-view-versus-copy\n",
      "/home/jonathan/anaconda2/envs/py35/lib/python3.5/site-packages/sklearn/utils/validation.py:429: DataConversionWarning: Data with input dtype int64 was converted to float64 by StandardScaler.\n",
      "  warnings.warn(msg, _DataConversionWarning)\n",
      "/home/jonathan/anaconda2/envs/py35/lib/python3.5/site-packages/ipykernel/__main__.py:29: SettingWithCopyWarning: \n",
      "A value is trying to be set on a copy of a slice from a DataFrame.\n",
      "Try using .loc[row_indexer,col_indexer] = value instead\n",
      "\n",
      "See the caveats in the documentation: http://pandas.pydata.org/pandas-docs/stable/indexing.html#indexing-view-versus-copy\n"
     ]
    },
    {
     "name": "stdout",
     "output_type": "stream",
     "text": [
      "Fitting 12 folds for each of 18 candidates, totalling 216 fits\n"
     ]
    },
    {
     "name": "stderr",
     "output_type": "stream",
     "text": [
      "[Parallel(n_jobs=-1)]: Done  42 tasks      | elapsed:   16.5s\n",
      "[Parallel(n_jobs=-1)]: Done 192 tasks      | elapsed:  1.2min\n",
      "[Parallel(n_jobs=-1)]: Done 216 out of 216 | elapsed:  1.4min finished\n"
     ]
    },
    {
     "name": "stdout",
     "output_type": "stream",
     "text": [
      "Best score from GridSearchCV for estimator GBR is  0.123413827241\n",
      "\n",
      "Build and Validation took 87.779 seconds\n",
      "\n"
     ]
    },
    {
     "name": "stderr",
     "output_type": "stream",
     "text": [
      "/home/jonathan/anaconda2/envs/py35/lib/python3.5/site-packages/ipykernel/__main__.py:26: SettingWithCopyWarning: \n",
      "A value is trying to be set on a copy of a slice from a DataFrame.\n",
      "Try using .loc[row_indexer,col_indexer] = value instead\n",
      "\n",
      "See the caveats in the documentation: http://pandas.pydata.org/pandas-docs/stable/indexing.html#indexing-view-versus-copy\n",
      "/home/jonathan/anaconda2/envs/py35/lib/python3.5/site-packages/sklearn/utils/validation.py:429: DataConversionWarning: Data with input dtype int64 was converted to float64 by StandardScaler.\n",
      "  warnings.warn(msg, _DataConversionWarning)\n",
      "/home/jonathan/anaconda2/envs/py35/lib/python3.5/site-packages/ipykernel/__main__.py:29: SettingWithCopyWarning: \n",
      "A value is trying to be set on a copy of a slice from a DataFrame.\n",
      "Try using .loc[row_indexer,col_indexer] = value instead\n",
      "\n",
      "See the caveats in the documentation: http://pandas.pydata.org/pandas-docs/stable/indexing.html#indexing-view-versus-copy\n"
     ]
    },
    {
     "name": "stdout",
     "output_type": "stream",
     "text": [
      "Fitting 12 folds for each of 18 candidates, totalling 216 fits\n"
     ]
    },
    {
     "name": "stderr",
     "output_type": "stream",
     "text": [
      "[Parallel(n_jobs=-1)]: Done  42 tasks      | elapsed:  3.5min\n",
      "[Parallel(n_jobs=-1)]: Done 192 tasks      | elapsed: 15.8min\n",
      "[Parallel(n_jobs=-1)]: Done 216 out of 216 | elapsed: 17.7min finished\n"
     ]
    },
    {
     "name": "stdout",
     "output_type": "stream",
     "text": [
      "Best score from GridSearchCV for estimator SVR is  -0.0415979933107\n",
      "\n",
      "Build and Validation took 1073.747 seconds\n",
      "\n"
     ]
    }
   ],
   "source": [
    "gridsearch_model_selection(df_2,SGDRegressor(),'SGDR',sgdr_parameters,'01',CATEGORICAL,'1,1','DOMP')\n",
    "gridsearch_model_selection(df_2,TheilSenRegressor(),'TSR',tsr_parameters,'01',CATEGORICAL,'1,1','DOMP')\n",
    "gridsearch_model_selection(df_2,PassiveAggressiveRegressor(),'PAR',par_parameters,'01',CATEGORICAL,'1,1','DOMP')\n",
    "gridsearch_model_selection(df_2,HuberRegressor(),'HR',hr_parameters,'01',CATEGORICAL,'1,1','DOMP')\n",
    "gridsearch_model_selection(df_2,LassoCV(),'LCV',lcv_parameters,'01',CATEGORICAL,'1,1','DOMP')\n",
    "gridsearch_model_selection(df_2,RidgeCV(),'RCV',rcv_parameters,'01',CATEGORICAL,'1,1','DOMP')\n",
    "gridsearch_model_selection(df_2,ElasticNetCV(),'ENCV',encv_parameters,'01',CATEGORICAL,'1,1','DOMP')\n",
    "gridsearch_model_selection(df_2,KNeighborsRegressor(),'KNNR',knnr_parameters,'01',CATEGORICAL,'1,1','DOMP')\n",
    "gridsearch_model_selection(df_2,RandomForestRegressor(),'RFR',rfr_parameters,'01',CATEGORICAL,'1,1','DOMP')\n",
    "gridsearch_model_selection(df_2,ExtraTreesRegressor(),'ETR',etr_parameters,'01',CATEGORICAL,'1,1','DOMP')\n",
    "gridsearch_model_selection(df_2,GradientBoostingRegressor(),'GBR',gbr_parameters,'01',CATEGORICAL,'1,1','DOMP')\n",
    "gridsearch_model_selection(df_2,SVR(),'SVR',svr_parameters,'01',CATEGORICAL,'1,1','DOMP')"
   ]
  },
  {
   "cell_type": "code",
   "execution_count": null,
   "metadata": {
    "collapsed": true
   },
   "outputs": [],
   "source": []
  }
 ],
 "metadata": {
  "anaconda-cloud": {},
  "kernelspec": {
   "display_name": "Python [py35]",
   "language": "python",
   "name": "Python [py35]"
  },
  "language_info": {
   "codemirror_mode": {
    "name": "ipython",
    "version": 3
   },
   "file_extension": ".py",
   "mimetype": "text/x-python",
   "name": "python",
   "nbconvert_exporter": "python",
   "pygments_lexer": "ipython3",
   "version": "3.5.2"
  },
  "widgets": {
   "state": {},
   "version": "1.1.2"
  }
 },
 "nbformat": 4,
 "nbformat_minor": 0
}

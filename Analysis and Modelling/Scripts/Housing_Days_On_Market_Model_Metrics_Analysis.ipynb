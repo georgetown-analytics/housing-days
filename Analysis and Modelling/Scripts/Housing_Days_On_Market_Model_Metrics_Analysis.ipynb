{
 "cells": [
  {
   "cell_type": "markdown",
   "metadata": {},
   "source": [
    "# Housing Days On Market Model Metric Analysis\n",
    "\n",
    "## Information\n",
    "\n",
    "Housing related data sources were combined in the project SQLite database. The output CSV file is analyzed here. \n",
    "\n",
    "### Environment Information:\n",
    "\n",
    "Environment used for coding is as follow:\n",
    "\n",
    "Oracle VM VirtualBox running Ubuntu (guest) on Windows 10 (host).\n",
    "\n",
    "Current conda install:\n",
    "\n",
    "               platform : linux-64\n",
    "          conda version : 4.2.13\n",
    "       conda is private : False\n",
    "      conda-env version : 4.2.13\n",
    "    conda-build version : 1.20.0\n",
    "         python version : 2.7.11.final.0\n",
    "       requests version : 2.9.1\n",
    "       \n",
    "Package requirements:\n",
    "\n",
    "dill : 0.2.4, numpy : 1.11.2, pandas : 0.19.1, matplotlib : 1.5.1, scipy : 0.18.1, seaborn : 0.7.0, scikit-image : 0.12.3, scikit-learn : 0.18.1\n"
   ]
  },
  {
   "cell_type": "markdown",
   "metadata": {},
   "source": [
    "## Python Package(s) Used"
   ]
  },
  {
   "cell_type": "code",
   "execution_count": 1,
   "metadata": {
    "collapsed": true
   },
   "outputs": [],
   "source": [
    "import numpy as np\n",
    "import pandas as pd"
   ]
  },
  {
   "cell_type": "code",
   "execution_count": 2,
   "metadata": {
    "collapsed": false
   },
   "outputs": [],
   "source": [
    "import matplotlib.pyplot as plt\n",
    "from scipy.stats import probplot, skew, skewtest, kurtosis, kurtosistest, ppcc_plot, ppcc_max\n",
    "import seaborn as sns"
   ]
  },
  {
   "cell_type": "code",
   "execution_count": 4,
   "metadata": {
    "collapsed": true
   },
   "outputs": [],
   "source": [
    "%matplotlib inline"
   ]
  },
  {
   "cell_type": "code",
   "execution_count": 5,
   "metadata": {
    "collapsed": true
   },
   "outputs": [],
   "source": [
    "plt.style.use('seaborn-whitegrid')"
   ]
  },
  {
   "cell_type": "markdown",
   "metadata": {},
   "source": [
    "## Data and Methods"
   ]
  },
  {
   "cell_type": "markdown",
   "metadata": {},
   "source": [
    "### Data Fetching"
   ]
  },
  {
   "cell_type": "code",
   "execution_count": null,
   "metadata": {
    "collapsed": false
   },
   "outputs": [],
   "source": [
    "# Import file from disk\n",
    "df_combination = pd.read_csv('results_output_file.csv')\n",
    "df_combination = df_combination.drop('Unnamed: 0', axis = 1)\n",
    "df_combination"
   ]
  },
  {
   "cell_type": "markdown",
   "metadata": {
    "collapsed": true
   },
   "source": [
    "## Analysis of Models"
   ]
  },
  {
   "cell_type": "code",
   "execution_count": null,
   "metadata": {
    "collapsed": false
   },
   "outputs": [],
   "source": [
    "# Descriptive statistics of dataframe\n",
    "df_combination.describe()"
   ]
  },
  {
   "cell_type": "code",
   "execution_count": null,
   "metadata": {
    "collapsed": false
   },
   "outputs": [],
   "source": [
    "# Print out maximum value for specific columns\n",
    "for i in df_combination.columns.difference(['process_time','estimator']):\n",
    "    print i\n",
    "    print df_combination[df_combination[i] == df_combination[i].max()]"
   ]
  },
  {
   "cell_type": "code",
   "execution_count": null,
   "metadata": {
    "collapsed": false
   },
   "outputs": [],
   "source": [
    "# Dataframe sorted by processing time\n",
    "df_combination.sort_values(by='process_time')"
   ]
  },
  {
   "cell_type": "code",
   "execution_count": null,
   "metadata": {
    "collapsed": false
   },
   "outputs": [],
   "source": [
    "#First pass for looking at frequency costs as a function of column, testing data for normality,\n",
    "# testing data for randomness, analyzing uncertainity of mean, median, and midrange values\n",
    "df_combination_2 = df_combination.drop('estimator', axis=1)\n",
    "\n",
    "# Specific parameters not evaluated here due to small dataset size\n",
    "for i in df_combination_2.iloc[:,:]:\n",
    "    print i \n",
    "    print \"Skew: \", round(skew(df_combination_2.iloc[:,:][i]),3)\n",
    "    #print \"Skew test: \", skewtest(df_combination_2.iloc[:,:][i])\n",
    "    print \"Kurtosis: \", round(kurtosis(df_combination_2.iloc[:,:][i]),3)\n",
    "    #print \"Kurtosis test: \", kurtosistest(df_combination_2.iloc[:,:][i])\n",
    "    #print \" \"\n",
    "    print \"PPCC_max value: \", round(ppcc_max(df_combination_2.iloc[:,:][i], brack = (-10,10)),3)\n",
    "    #www.itl.nist.gov/div898/handbook/eda/section3/ppccplot.htm\n",
    "    #ppcc_max~0.14 indicates a normal distribution. Less than 0.14 indicates\n",
    "    #long-tailed distributions (Cauchy).\n",
    "    #Greater than 0.14 indicates short-tailed distributions (Beta or uniform).\n",
    "    \n",
    "    plt.figure(1, figsize = (10,10), dpi = 80)\n",
    "    #histogram plot\n",
    "    plt.subplot(321)\n",
    "    plt.title(\"Histogram\")\n",
    "    plt.hist(df_combination_2.iloc[:,:][i])\n",
    "    \n",
    "    #box and whiskers plot \n",
    "    plt.subplot(322)\n",
    "    plt.title(\"Box-Whiskers\")\n",
    "    plt.boxplot(df_combination_2.iloc[:,:][i])\n",
    "    \n",
    "    #normal probability plot - test for normality\n",
    "    plt.subplot(323)\n",
    "    plt.title(\"Normal Probability Test\")\n",
    "    probplot(df_combination_2.iloc[:,:][i], plot=plt)\n",
    "    \n",
    "    #run-sequence plot - test for outliers, and shifts in location and variation\n",
    "    plt.subplot(324)\n",
    "    plt.title(\"Run-Sequence\")\n",
    "    plt.scatter(df_combination_2.iloc[:,:][i].index, df_combination_2.iloc[:,:][i])\n",
    "    \n",
    "    #lag plot - test for randomness\n",
    "    plt.subplot(325)\n",
    "    #plt.title(\"Lag\")\n",
    "    lag_plot(df_combination_2.iloc[:,:][i])\n",
    "    \n",
    "    # Bootstrap plot not used here due to small dataset size\n",
    "    #bootstrap plot - test for uncertainity of mean, median, and midrange\n",
    "    #bootstrap_plot(df_combination_2.iloc[:,:][i], size = 100, samples = 100, color = 'grey')\n",
    "    \n",
    "    plt.tight_layout()\n",
    "    plt.show()"
   ]
  },
  {
   "cell_type": "code",
   "execution_count": null,
   "metadata": {
    "collapsed": true
   },
   "outputs": [],
   "source": []
  }
 ],
 "metadata": {
  "anaconda-cloud": {},
  "kernelspec": {
   "display_name": "Python 2",
   "language": "python",
   "name": "python2"
  },
  "language_info": {
   "codemirror_mode": {
    "name": "ipython",
    "version": 2
   },
   "file_extension": ".py",
   "mimetype": "text/x-python",
   "name": "python",
   "nbconvert_exporter": "python",
   "pygments_lexer": "ipython2",
   "version": "2.7.11"
  },
  "widgets": {
   "state": {},
   "version": "1.1.2"
  }
 },
 "nbformat": 4,
 "nbformat_minor": 0
}

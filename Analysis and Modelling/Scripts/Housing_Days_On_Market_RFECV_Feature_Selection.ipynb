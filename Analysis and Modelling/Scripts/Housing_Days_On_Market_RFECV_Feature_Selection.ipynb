{
 "cells": [
  {
   "cell_type": "markdown",
   "metadata": {},
   "source": [
    "# Housing Days On Market - RFECV Feature Selection\n",
    "\n",
    "## Information\n",
    "\n",
    "Housing related data sources were combined in the project SQLite database. The output CSV file is analyzed here. \n",
    "\n",
    "### Environment Information:\n",
    "\n",
    "Environment used for coding is as follow:\n",
    "\n",
    "Oracle VM VirtualBox running Ubuntu (guest) on Windows 10 (host).\n",
    "\n",
    "Current conda install:\n",
    "\n",
    "               platform : linux-64\n",
    "          conda version : 4.2.13\n",
    "       conda is private : False\n",
    "      conda-env version : 4.2.13\n",
    "    conda-build version : 1.20.0\n",
    "         python version : 2.7.11.final.0\n",
    "       requests version : 2.9.1\n",
    "       default environment : /home/jonathan/anaconda2/envs/py35\n",
    "       \n",
    "       Python 3.5.2 :: Anaconda 4.1.1 (64-bit)\n",
    "\n",
    "Package requirements:\n",
    "\n",
    "dill : 0.2.5, numpy : 1.11.3, pandas : 0.18.1, matplotlib : 1.5.1, scipy : 0.18.1, seaborn : 0.7.1, scikit-image : 0.12.3, scikit-learn : 0.18.1"
   ]
  },
  {
   "cell_type": "markdown",
   "metadata": {},
   "source": [
    "## Python Package(s) Used"
   ]
  },
  {
   "cell_type": "code",
   "execution_count": 1,
   "metadata": {
    "collapsed": false
   },
   "outputs": [],
   "source": [
    "import dill\n",
    "from itertools import chain\n",
    "import numpy as np\n",
    "import pandas as pd\n",
    "import time"
   ]
  },
  {
   "cell_type": "code",
   "execution_count": 2,
   "metadata": {
    "collapsed": false
   },
   "outputs": [],
   "source": [
    "import matplotlib.pyplot as plt\n",
    "import seaborn as sns"
   ]
  },
  {
   "cell_type": "code",
   "execution_count": 3,
   "metadata": {
    "collapsed": false,
    "scrolled": true
   },
   "outputs": [],
   "source": [
    "from sklearn.feature_selection import RFECV\n",
    "from sklearn.linear_model import LassoCV, SGDRegressor, TheilSenRegressor, PassiveAggressiveRegressor, HuberRegressor\n",
    "from sklearn.model_selection import train_test_split\n",
    "from sklearn.preprocessing import StandardScaler"
   ]
  },
  {
   "cell_type": "code",
   "execution_count": 4,
   "metadata": {
    "collapsed": true
   },
   "outputs": [],
   "source": [
    "%matplotlib inline"
   ]
  },
  {
   "cell_type": "code",
   "execution_count": 5,
   "metadata": {
    "collapsed": true
   },
   "outputs": [],
   "source": [
    "plt.style.use('seaborn-whitegrid')"
   ]
  },
  {
   "cell_type": "markdown",
   "metadata": {},
   "source": [
    "## Data and Methods"
   ]
  },
  {
   "cell_type": "markdown",
   "metadata": {},
   "source": [
    "### Data Fetching"
   ]
  },
  {
   "cell_type": "code",
   "execution_count": 6,
   "metadata": {
    "collapsed": false
   },
   "outputs": [
    {
     "data": {
      "text/html": [
       "<div>\n",
       "<table border=\"1\" class=\"dataframe\">\n",
       "  <thead>\n",
       "    <tr style=\"text-align: right;\">\n",
       "      <th></th>\n",
       "      <th>ListPrice2</th>\n",
       "      <th>ClosePrice2</th>\n",
       "      <th>Bedrooms</th>\n",
       "      <th>BathsFull</th>\n",
       "      <th>BathsHalf</th>\n",
       "      <th>Levels</th>\n",
       "      <th>Fireplaces</th>\n",
       "      <th>BasementY/N</th>\n",
       "      <th>Acres</th>\n",
       "      <th>YearBuilt</th>\n",
       "      <th>...</th>\n",
       "      <th>HSSR_1.0</th>\n",
       "      <th>HSSR_2.0</th>\n",
       "      <th>HSSR_3.0</th>\n",
       "      <th>HSSR_4.0</th>\n",
       "      <th>MSSR_0.0</th>\n",
       "      <th>MSSR_1.0</th>\n",
       "      <th>MSSR_2.0</th>\n",
       "      <th>MSSR_3.0</th>\n",
       "      <th>MSSR_4.0</th>\n",
       "      <th>MSSR_5.0</th>\n",
       "    </tr>\n",
       "  </thead>\n",
       "  <tbody>\n",
       "    <tr>\n",
       "      <th>0</th>\n",
       "      <td>269900</td>\n",
       "      <td>280000</td>\n",
       "      <td>3</td>\n",
       "      <td>2</td>\n",
       "      <td>0.0</td>\n",
       "      <td>3</td>\n",
       "      <td>0</td>\n",
       "      <td>1</td>\n",
       "      <td>0.082</td>\n",
       "      <td>1950</td>\n",
       "      <td>...</td>\n",
       "      <td>0.0</td>\n",
       "      <td>1.0</td>\n",
       "      <td>0.0</td>\n",
       "      <td>0.0</td>\n",
       "      <td>0.0</td>\n",
       "      <td>1.0</td>\n",
       "      <td>0.0</td>\n",
       "      <td>0.0</td>\n",
       "      <td>0.0</td>\n",
       "      <td>0.0</td>\n",
       "    </tr>\n",
       "    <tr>\n",
       "      <th>1</th>\n",
       "      <td>255000</td>\n",
       "      <td>250000</td>\n",
       "      <td>2</td>\n",
       "      <td>2</td>\n",
       "      <td>1.0</td>\n",
       "      <td>2</td>\n",
       "      <td>1</td>\n",
       "      <td>0</td>\n",
       "      <td>0.000</td>\n",
       "      <td>1987</td>\n",
       "      <td>...</td>\n",
       "      <td>0.0</td>\n",
       "      <td>1.0</td>\n",
       "      <td>0.0</td>\n",
       "      <td>0.0</td>\n",
       "      <td>0.0</td>\n",
       "      <td>0.0</td>\n",
       "      <td>1.0</td>\n",
       "      <td>0.0</td>\n",
       "      <td>0.0</td>\n",
       "      <td>0.0</td>\n",
       "    </tr>\n",
       "    <tr>\n",
       "      <th>2</th>\n",
       "      <td>299900</td>\n",
       "      <td>299900</td>\n",
       "      <td>1</td>\n",
       "      <td>1</td>\n",
       "      <td>0.0</td>\n",
       "      <td>1</td>\n",
       "      <td>0</td>\n",
       "      <td>0</td>\n",
       "      <td>0.000</td>\n",
       "      <td>1941</td>\n",
       "      <td>...</td>\n",
       "      <td>0.0</td>\n",
       "      <td>1.0</td>\n",
       "      <td>0.0</td>\n",
       "      <td>0.0</td>\n",
       "      <td>0.0</td>\n",
       "      <td>1.0</td>\n",
       "      <td>0.0</td>\n",
       "      <td>0.0</td>\n",
       "      <td>0.0</td>\n",
       "      <td>0.0</td>\n",
       "    </tr>\n",
       "    <tr>\n",
       "      <th>3</th>\n",
       "      <td>245000</td>\n",
       "      <td>252000</td>\n",
       "      <td>1</td>\n",
       "      <td>1</td>\n",
       "      <td>0.0</td>\n",
       "      <td>1</td>\n",
       "      <td>0</td>\n",
       "      <td>0</td>\n",
       "      <td>0.000</td>\n",
       "      <td>1941</td>\n",
       "      <td>...</td>\n",
       "      <td>0.0</td>\n",
       "      <td>1.0</td>\n",
       "      <td>0.0</td>\n",
       "      <td>0.0</td>\n",
       "      <td>0.0</td>\n",
       "      <td>1.0</td>\n",
       "      <td>0.0</td>\n",
       "      <td>0.0</td>\n",
       "      <td>0.0</td>\n",
       "      <td>0.0</td>\n",
       "    </tr>\n",
       "    <tr>\n",
       "      <th>4</th>\n",
       "      <td>250000</td>\n",
       "      <td>275000</td>\n",
       "      <td>1</td>\n",
       "      <td>1</td>\n",
       "      <td>0.0</td>\n",
       "      <td>1</td>\n",
       "      <td>0</td>\n",
       "      <td>0</td>\n",
       "      <td>0.000</td>\n",
       "      <td>1891</td>\n",
       "      <td>...</td>\n",
       "      <td>0.0</td>\n",
       "      <td>1.0</td>\n",
       "      <td>0.0</td>\n",
       "      <td>0.0</td>\n",
       "      <td>0.0</td>\n",
       "      <td>1.0</td>\n",
       "      <td>0.0</td>\n",
       "      <td>0.0</td>\n",
       "      <td>0.0</td>\n",
       "      <td>0.0</td>\n",
       "    </tr>\n",
       "  </tbody>\n",
       "</table>\n",
       "<p>5 rows × 125 columns</p>\n",
       "</div>"
      ],
      "text/plain": [
       "   ListPrice2  ClosePrice2  Bedrooms  BathsFull  BathsHalf  Levels  \\\n",
       "0      269900       280000         3          2        0.0       3   \n",
       "1      255000       250000         2          2        1.0       2   \n",
       "2      299900       299900         1          1        0.0       1   \n",
       "3      245000       252000         1          1        0.0       1   \n",
       "4      250000       275000         1          1        0.0       1   \n",
       "\n",
       "   Fireplaces  BasementY/N  Acres  YearBuilt    ...     HSSR_1.0  HSSR_2.0  \\\n",
       "0           0            1  0.082       1950    ...          0.0       1.0   \n",
       "1           1            0  0.000       1987    ...          0.0       1.0   \n",
       "2           0            0  0.000       1941    ...          0.0       1.0   \n",
       "3           0            0  0.000       1941    ...          0.0       1.0   \n",
       "4           0            0  0.000       1891    ...          0.0       1.0   \n",
       "\n",
       "   HSSR_3.0  HSSR_4.0  MSSR_0.0  MSSR_1.0  MSSR_2.0  MSSR_3.0  MSSR_4.0  \\\n",
       "0       0.0       0.0       0.0       1.0       0.0       0.0       0.0   \n",
       "1       0.0       0.0       0.0       0.0       1.0       0.0       0.0   \n",
       "2       0.0       0.0       0.0       1.0       0.0       0.0       0.0   \n",
       "3       0.0       0.0       0.0       1.0       0.0       0.0       0.0   \n",
       "4       0.0       0.0       0.0       1.0       0.0       0.0       0.0   \n",
       "\n",
       "   MSSR_5.0  \n",
       "0       0.0  \n",
       "1       0.0  \n",
       "2       0.0  \n",
       "3       0.0  \n",
       "4       0.0  \n",
       "\n",
       "[5 rows x 125 columns]"
      ]
     },
     "execution_count": 6,
     "metadata": {},
     "output_type": "execute_result"
    }
   ],
   "source": [
    "# Import data csv into dataframe\n",
    "df = pd.read_csv('df_prep_for_feature_selection_output.csv')\n",
    "df = df.drop('Unnamed: 0', axis = 1)\n",
    "df.head()"
   ]
  },
  {
   "cell_type": "markdown",
   "metadata": {},
   "source": [
    "## Regression Modelling"
   ]
  },
  {
   "cell_type": "markdown",
   "metadata": {},
   "source": [
    "### Feature Selection"
   ]
  },
  {
   "cell_type": "code",
   "execution_count": 7,
   "metadata": {
    "collapsed": true
   },
   "outputs": [],
   "source": [
    "df_2 = df.copy()"
   ]
  },
  {
   "cell_type": "code",
   "execution_count": 8,
   "metadata": {
    "collapsed": false
   },
   "outputs": [
    {
     "name": "stdout",
     "output_type": "stream",
     "text": [
      "0    13725\n",
      "Name: qcut_DOMP, dtype: int64\n"
     ]
    }
   ],
   "source": [
    "# Performing feature selection on full dataset, resulted in best_score ~ 0.1.\n",
    "# Qcutting to separate out data.\n",
    "# qcut value = 1 is dataset as is.\n",
    "\n",
    "# Define target for process\n",
    "target_col_str = 'DOMP'\n",
    "\n",
    "# Qcut target data\n",
    "df_2['qcut_'+target_col_str] = pd.qcut(df_2[target_col_str], 1, labels = False)\n",
    "\n",
    "# Print out total row counts for each group\n",
    "print(df_2['qcut_'+target_col_str].value_counts())\n",
    "\n",
    "# Select specific range\n",
    "df_2 = df_2[df_2['qcut_'+target_col_str] == 0]\n",
    "\n",
    "# Define qcut for process\n",
    "qcut_str = '1,1'\n",
    "\n",
    "# Save dataframe to disk\n",
    "df_2.to_csv('df_RFECV_feature_selection_qcut_'+qcut_str+'_target_'+target_col_str+'_save_point.csv')\n",
    "\n",
    "# Copy dataframe for dropping columns and determining categorical columns\n",
    "df_3 = df_2.copy()\n",
    "\n",
    "# Drop target column and qcut column for test-train-split\n",
    "df_3 = df_3.drop(target_col_str, axis=1)\n",
    "df_3 = df_3.drop('qcut_'+target_col_str, axis=1)"
   ]
  },
  {
   "cell_type": "code",
   "execution_count": null,
   "metadata": {
    "collapsed": false
   },
   "outputs": [],
   "source": [
    "# Checking for grouped categorical columns\n",
    "#df_3.columns[89:]"
   ]
  },
  {
   "cell_type": "code",
   "execution_count": null,
   "metadata": {
    "collapsed": false
   },
   "outputs": [],
   "source": [
    "# Columns that are not scaled since they are categorical\n",
    "# cat_df = df_3[[u'BasementY/N']]\n",
    "# cat_df_2 = df_3.ix[:,34:38]\n",
    "# cat_df_3 = df_3.ix[:,43:47]\n",
    "# cat_df_4 = df_3.ix[:,52:56]\n",
    "# cat_df_5 = df_3.ix[:,93:178]\n",
    "# cat_df_6 = pd.concat([cat_df,cat_df_2,cat_df_3,cat_df_4,cat_df_5],axis=1)\n",
    "# CATEGORICAL = [x for x in cat_df_6.columns]\n",
    "# CATEGORICAL"
   ]
  },
  {
   "cell_type": "code",
   "execution_count": 9,
   "metadata": {
    "collapsed": true
   },
   "outputs": [],
   "source": [
    "CATEGORICAL = ['BasementY/N','ES_IsTitleI','HS_IsTitleI','MS_IsTitleI','zip_20001',\n",
    "               'zip_20002','zip_20004','zip_20005','zip_20007','zip_20008','zip_20009',\n",
    "               'zip_20010','zip_20011','zip_20012','zip_20015','zip_20017','zip_20018',\n",
    "               'zip_20019','zip_20020','zip_20032','zip_20036','zip_20037','ldmonth_1',\n",
    "               'ldmonth_2','ldmonth_3','ldmonth_4','ldmonth_5','ldmonth_6','ldmonth_7',\n",
    "               'ldmonth_8','ldmonth_9','ldmonth_10','ldmonth_11','ldmonth_12','ldday_1',\n",
    "               'ldday_2','ldday_3','ldday_4','ldday_5','ldday_6','ldday_7','ldday_8',\n",
    "               'ldday_9','ldday_10','ldday_11','ldday_12','ldday_13','ldday_14','ldday_15',\n",
    "               'ldday_16','ldday_17','ldday_18','ldday_19','ldday_20','ldday_21','ldday_22',\n",
    "               'ldday_23','ldday_24','ldday_25','ldday_26','ldday_27','ldday_28','ldday_29',\n",
    "               'ldday_30','ldday_31','ESSR_0.0','ESSR_1.0','ESSR_2.0','ESSR_3.0','ESSR_4.0',\n",
    "               'ESSR_5.0','HSSR_0.0','HSSR_1.0','HSSR_2.0','HSSR_3.0','HSSR_4.0','MSSR_0.0',\n",
    "               'MSSR_1.0','MSSR_2.0','MSSR_3.0','MSSR_4.0','MSSR_5.0']"
   ]
  },
  {
   "cell_type": "code",
   "execution_count": 10,
   "metadata": {
    "collapsed": false
   },
   "outputs": [],
   "source": [
    "def RFECV_feature_selection(df,feature_model,feature_model_str,eps_str,CATEGORICAL,qcut_str,target_str):\n",
    "\n",
    "    \"\"\"\n",
    "    Use RFECV for feature selection using estimator. LassoCV and SGDRegressor chosen as the \n",
    "    primary estimators due to processing time and choice in loss functions and penalties.\n",
    "    The function here test-train-splits the dataset, and performs modelling with RFECV.\n",
    "    Output models are saved as as dills, and the optimum number of features is determined.\n",
    "    \"\"\"\n",
    "    \n",
    "    # Start clock for run time\n",
    "    start  = time.time()\n",
    "    \n",
    "    # Copy dataframe\n",
    "    df_2 = df.copy()\n",
    "    \n",
    "    # Drop target column and qcut column for test-train-split\n",
    "    df_2 = df_2.drop(target_str, axis=1)\n",
    "    df_2 = df_2.drop('qcut_'+target_str, axis=1)\n",
    "    \n",
    "    # Test-train split. Using 70/30% split.\n",
    "    X_train, X_test, y_train, y_test = train_test_split(df_2, df[target_str], train_size=0.70,\n",
    "                                                    random_state=1)    \n",
    "    \n",
    "    # Standardizing training and testing data. Standardized separately to avoid information\n",
    "    # leaking from the training set to the testing set. Categorical data not scaled.\n",
    "    for i in X_train.columns.difference(CATEGORICAL):\n",
    "        X_train[i] = StandardScaler().fit_transform(X_train[i].values.reshape(-1,1))\n",
    "\n",
    "    for i in X_test.columns.difference(CATEGORICAL):\n",
    "        X_test[i] = StandardScaler().fit_transform(X_test[i].values.reshape(-1,1))  \n",
    "    \n",
    "    # Initialize RFECV and fit model\n",
    "    rfecv = RFECV(feature_model, step=1, cv=5, verbose=False)\n",
    "    rfecv.fit(X_train, y_train)    \n",
    "    \n",
    "    # Save model to disk\n",
    "    dill.dump(rfecv, open('RFECV_feature_selection_'+feature_model_str+'_eps_'+eps_str+'_qcut_'+qcut_str+'_target_'+target_str, 'wb'))\n",
    "    #dill.dump(refcv.best_estimator_, open('RFECV_feature_selection_'+feature_model_str+'_best_model_estimator_', 'wb'))\n",
    "\n",
    "    # Print optimal number of features\n",
    "    print(\"Optimal number of features : %d\" % rfecv.n_features_)\n",
    "    \n",
    "    # Print run time\n",
    "    print(\"\\nBuild and Validation took {:0.3f} seconds\\n\".format(time.time()-start))   "
   ]
  },
  {
   "cell_type": "code",
   "execution_count": 11,
   "metadata": {
    "collapsed": false
   },
   "outputs": [
    {
     "name": "stderr",
     "output_type": "stream",
     "text": [
      "/home/jonathan/anaconda2/envs/py35/lib/python3.5/site-packages/ipykernel/__main__.py:27: SettingWithCopyWarning: \n",
      "A value is trying to be set on a copy of a slice from a DataFrame.\n",
      "Try using .loc[row_indexer,col_indexer] = value instead\n",
      "\n",
      "See the caveats in the documentation: http://pandas.pydata.org/pandas-docs/stable/indexing.html#indexing-view-versus-copy\n",
      "/home/jonathan/anaconda2/envs/py35/lib/python3.5/site-packages/sklearn/utils/validation.py:429: DataConversionWarning: Data with input dtype int64 was converted to float64 by StandardScaler.\n",
      "  warnings.warn(msg, _DataConversionWarning)\n",
      "/home/jonathan/anaconda2/envs/py35/lib/python3.5/site-packages/ipykernel/__main__.py:30: SettingWithCopyWarning: \n",
      "A value is trying to be set on a copy of a slice from a DataFrame.\n",
      "Try using .loc[row_indexer,col_indexer] = value instead\n",
      "\n",
      "See the caveats in the documentation: http://pandas.pydata.org/pandas-docs/stable/indexing.html#indexing-view-versus-copy\n"
     ]
    },
    {
     "name": "stdout",
     "output_type": "stream",
     "text": [
      "Optimal number of features : 91\n",
      "\n",
      "Build and Validation took 1373.054 seconds\n",
      "\n"
     ]
    },
    {
     "name": "stderr",
     "output_type": "stream",
     "text": [
      "/home/jonathan/anaconda2/envs/py35/lib/python3.5/site-packages/ipykernel/__main__.py:27: SettingWithCopyWarning: \n",
      "A value is trying to be set on a copy of a slice from a DataFrame.\n",
      "Try using .loc[row_indexer,col_indexer] = value instead\n",
      "\n",
      "See the caveats in the documentation: http://pandas.pydata.org/pandas-docs/stable/indexing.html#indexing-view-versus-copy\n",
      "/home/jonathan/anaconda2/envs/py35/lib/python3.5/site-packages/sklearn/utils/validation.py:429: DataConversionWarning: Data with input dtype int64 was converted to float64 by StandardScaler.\n",
      "  warnings.warn(msg, _DataConversionWarning)\n",
      "/home/jonathan/anaconda2/envs/py35/lib/python3.5/site-packages/ipykernel/__main__.py:30: SettingWithCopyWarning: \n",
      "A value is trying to be set on a copy of a slice from a DataFrame.\n",
      "Try using .loc[row_indexer,col_indexer] = value instead\n",
      "\n",
      "See the caveats in the documentation: http://pandas.pydata.org/pandas-docs/stable/indexing.html#indexing-view-versus-copy\n"
     ]
    },
    {
     "name": "stdout",
     "output_type": "stream",
     "text": [
      "Optimal number of features : 70\n",
      "\n",
      "Build and Validation took 670.711 seconds\n",
      "\n"
     ]
    },
    {
     "name": "stderr",
     "output_type": "stream",
     "text": [
      "/home/jonathan/anaconda2/envs/py35/lib/python3.5/site-packages/ipykernel/__main__.py:27: SettingWithCopyWarning: \n",
      "A value is trying to be set on a copy of a slice from a DataFrame.\n",
      "Try using .loc[row_indexer,col_indexer] = value instead\n",
      "\n",
      "See the caveats in the documentation: http://pandas.pydata.org/pandas-docs/stable/indexing.html#indexing-view-versus-copy\n",
      "/home/jonathan/anaconda2/envs/py35/lib/python3.5/site-packages/sklearn/utils/validation.py:429: DataConversionWarning: Data with input dtype int64 was converted to float64 by StandardScaler.\n",
      "  warnings.warn(msg, _DataConversionWarning)\n",
      "/home/jonathan/anaconda2/envs/py35/lib/python3.5/site-packages/ipykernel/__main__.py:30: SettingWithCopyWarning: \n",
      "A value is trying to be set on a copy of a slice from a DataFrame.\n",
      "Try using .loc[row_indexer,col_indexer] = value instead\n",
      "\n",
      "See the caveats in the documentation: http://pandas.pydata.org/pandas-docs/stable/indexing.html#indexing-view-versus-copy\n"
     ]
    },
    {
     "name": "stdout",
     "output_type": "stream",
     "text": [
      "Optimal number of features : 17\n",
      "\n",
      "Build and Validation took 202.510 seconds\n",
      "\n"
     ]
    }
   ],
   "source": [
    "RFECV_feature_selection(df_2,LassoCV(eps=0.001,max_iter=50000,cv=5,random_state=1),'LCV','0001',CATEGORICAL,'1,1','DOMP')\n",
    "RFECV_feature_selection(df_2,LassoCV(eps=0.01,max_iter=50000,cv=5,random_state=1),'LCV','001',CATEGORICAL,'1,1','DOMP')\n",
    "RFECV_feature_selection(df_2,LassoCV(eps=0.1,max_iter=50000,cv=5,random_state=1),'LCV','01',CATEGORICAL,'1,1','DOMP')"
   ]
  },
  {
   "cell_type": "code",
   "execution_count": 12,
   "metadata": {
    "collapsed": false
   },
   "outputs": [],
   "source": [
    "def plot_RFECV_score_vs_features(df,feature_model_str,eps_str,qcut_str,target_str):\n",
    "    # Import dill file of model\n",
    "    model = dill.load(open('RFECV_feature_selection_'+feature_model_str+'_eps_'+eps_str+'_qcut_'+qcut_str+'_target_'+target_str, 'rb'))\n",
    "     \n",
    "    # Plot number of features vs. cross-validation scores\n",
    "    plt.figure()\n",
    "    plt.plot(range(1, len(model.grid_scores_) + 1), model.grid_scores_,linewidth=3)\n",
    "    plt.title('CV score vs features',fontsize=18,fontweight='bold')\n",
    "    plt.xlabel(\"Number of features selected\",fontsize=14,fontweight='bold')\n",
    "    plt.xticks(fontsize=14,fontweight='bold')\n",
    "    plt.ylabel(\"Cross validation score\",fontsize=14,fontweight='bold')\n",
    "    plt.yticks(fontsize=14,fontweight='bold')\n",
    "    plt.legend(fontsize=16)\n",
    "    plt.savefig('RFECV_feature_selection_'+feature_model_str+'_eps_'+eps_str+'_qcut_'+qcut_str+'_target_'+target_str+'_plot_score_vs_features')\n",
    "    plt.show()\n",
    "    \n",
    "    # Print out table of sorted features by importance.\n",
    "    print(\"Features sorted: \")\n",
    "    rfecv_ranking_df = pd.DataFrame({'feature':df.columns,\n",
    "                                     'importance':model.ranking_})\n",
    "    rfecv_ranking_df_sorted = rfecv_ranking_df.sort_values(by = 'importance'\n",
    "                                        , ascending = True)\n",
    "    rfecv_ranking_df_sorted.to_csv('RFECV_feature_selection_'+feature_model_str+'_eps_'+eps_str+'_qcut_'+qcut_str+'_target_'+target_str+'_feature_importances.csv')\n",
    "    print(rfecv_ranking_df_sorted.head(10))"
   ]
  },
  {
   "cell_type": "code",
   "execution_count": 15,
   "metadata": {
    "collapsed": false
   },
   "outputs": [
    {
     "name": "stderr",
     "output_type": "stream",
     "text": [
      "/home/jonathan/anaconda2/envs/py35/lib/python3.5/site-packages/matplotlib/axes/_axes.py:519: UserWarning: No labelled objects found. Use label='...' kwarg on individual plots.\n",
      "  warnings.warn(\"No labelled objects found. \"\n"
     ]
    },
    {
     "data": {
      "image/png": "[encoded data removed]",
      "text/plain": [
       "<matplotlib.figure.Figure at 0x7f30aab4c358>"
      ]
     },
     "metadata": {},
     "output_type": "display_data"
    },
    {
     "name": "stdout",
     "output_type": "stream",
     "text": [
      "Features sorted: \n",
      "       feature  importance\n",
      "0   ListPrice2           1\n",
      "84     ldday_9           1\n",
      "83     ldday_8           1\n",
      "81     ldday_6           1\n",
      "80     ldday_5           1\n",
      "79     ldday_4           1\n",
      "78     ldday_3           1\n",
      "77     ldday_2           1\n",
      "75  ldmonth_12           1\n",
      "73  ldmonth_10           1\n"
     ]
    }
   ],
   "source": [
    "plot_RFECV_score_vs_features(df_3,'LCV','0001','1,1','DOMP')"
   ]
  },
  {
   "cell_type": "code",
   "execution_count": 16,
   "metadata": {
    "collapsed": true
   },
   "outputs": [],
   "source": [
    "# Subset data based on important features and save to disk\n",
    "\n",
    "def create_important_features_subset_dataframe(feature_model_str,eps_str,qcut_str,target_str):\n",
    "    # Import data into dataframes\n",
    "    df_features_1 = pd.read_csv('RFECV_feature_selection_'+feature_model_str+'_eps_'+eps_str+'_qcut_'+qcut_str+'_target_'+target_str+'_feature_importances.csv')\n",
    "   \n",
    "    # Subset dataframes on most important features\n",
    "    df_features_1 = df_features_1[df_features_1['importance'] == 1]\n",
    "    \n",
    "    # Create lists of feature names from dataframes\n",
    "    df_features_1_lst = [x for x in df_features_1['feature']]\n",
    "    \n",
    "    # Subset dataframe with most important features\n",
    "    df_4 = df_2[df_features_1_lst]\n",
    "    df_4[target_str] = df_2[target_str]\n",
    "    df_4['qcut_'+target_str] = df_2['qcut_'+target_str]\n",
    "\n",
    "    # Save dataframe to disk\n",
    "    df_4.to_csv('df_RFECV_feature_selection_'+feature_model_str+'_eps_'+eps_str+'_qcut_'+qcut_str+'_target_'+target_str+'_output.csv')"
   ]
  },
  {
   "cell_type": "code",
   "execution_count": 17,
   "metadata": {
    "collapsed": false
   },
   "outputs": [
    {
     "name": "stderr",
     "output_type": "stream",
     "text": [
      "/home/jonathan/anaconda2/envs/py35/lib/python3.5/site-packages/ipykernel/__main__.py:15: SettingWithCopyWarning: \n",
      "A value is trying to be set on a copy of a slice from a DataFrame.\n",
      "Try using .loc[row_indexer,col_indexer] = value instead\n",
      "\n",
      "See the caveats in the documentation: http://pandas.pydata.org/pandas-docs/stable/indexing.html#indexing-view-versus-copy\n",
      "/home/jonathan/anaconda2/envs/py35/lib/python3.5/site-packages/ipykernel/__main__.py:16: SettingWithCopyWarning: \n",
      "A value is trying to be set on a copy of a slice from a DataFrame.\n",
      "Try using .loc[row_indexer,col_indexer] = value instead\n",
      "\n",
      "See the caveats in the documentation: http://pandas.pydata.org/pandas-docs/stable/indexing.html#indexing-view-versus-copy\n"
     ]
    }
   ],
   "source": [
    "create_important_features_subset_dataframe('LCV','01','1,1','DOMP')"
   ]
  },
  {
   "cell_type": "code",
   "execution_count": 18,
   "metadata": {
    "collapsed": true
   },
   "outputs": [],
   "source": [
    "# Correlation heatmap for most important features\n",
    "def correlation_heatmap_plot(feature_model_str,eps_str,qcut_str,target_str):\n",
    "    # Import dataframe from disk\n",
    "    df = pd.read_csv('df_RFECV_feature_selection_'+feature_model_str+'_eps_'+eps_str+'_qcut_'+qcut_str+'_target_'+target_str+'_output.csv')\n",
    "    \n",
    "    # Drop Unnamed: 0\n",
    "    df = df.drop('Unnamed: 0',axis=1)\n",
    "    \n",
    "    # Plot heatmap\n",
    "    fig, ax = plt.subplots(figsize=(10,8))\n",
    "    heat_map = sns.heatmap(df.corr())\n",
    "    fig = heat_map.get_figure()\n",
    "    fig.savefig('RFECV_feature_selection_'+feature_model_str+'_eps_'+eps_str+'_qcut_'+qcut_str+'_target_'+target_str+'_plot_heatmap_important_features')\n",
    "    fig.show()"
   ]
  },
  {
   "cell_type": "code",
   "execution_count": 19,
   "metadata": {
    "collapsed": false
   },
   "outputs": [
    {
     "name": "stderr",
     "output_type": "stream",
     "text": [
      "/home/jonathan/anaconda2/envs/py35/lib/python3.5/site-packages/matplotlib/figure.py:397: UserWarning: matplotlib is currently using a non-GUI backend, so cannot show the figure\n",
      "  \"matplotlib is currently using a non-GUI backend, \"\n"
     ]
    },
    {
     "data": {
      "image/png": "[encoded data removed]",
      "text/plain": [
       "<matplotlib.figure.Figure at 0x7f30aa9775f8>"
      ]
     },
     "metadata": {},
     "output_type": "display_data"
    }
   ],
   "source": [
    "correlation_heatmap_plot('LCV','01','1,1','DOMP')"
   ]
  },
  {
   "cell_type": "code",
   "execution_count": null,
   "metadata": {
    "collapsed": true
   },
   "outputs": [],
   "source": []
  }
 ],
 "metadata": {
  "anaconda-cloud": {},
  "kernelspec": {
   "display_name": "Python [py35]",
   "language": "python",
   "name": "Python [py35]"
  },
  "language_info": {
   "codemirror_mode": {
    "name": "ipython",
    "version": 3
   },
   "file_extension": ".py",
   "mimetype": "text/x-python",
   "name": "python",
   "nbconvert_exporter": "python",
   "pygments_lexer": "ipython3",
   "version": "3.5.2"
  },
  "widgets": {
   "state": {},
   "version": "1.1.2"
  }
 },
 "nbformat": 4,
 "nbformat_minor": 0
}

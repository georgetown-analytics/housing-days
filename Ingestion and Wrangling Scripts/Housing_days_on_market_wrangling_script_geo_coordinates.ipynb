{
 "cells": [
  {
   "cell_type": "markdown",
   "metadata": {},
   "source": [
    "# Housing Days On Market Wrangling For Geo-Coordinates"
   ]
  },
  {
   "cell_type": "markdown",
   "metadata": {},
   "source": [
    "## Python Package(s) Used"
   ]
  },
  {
   "cell_type": "code",
   "execution_count": null,
   "metadata": {
    "collapsed": true
   },
   "outputs": [],
   "source": [
    "from geopy.distance import vincenty\n",
    "import numpy as np\n",
    "import pandas as pd\n",
    "import time"
   ]
  },
  {
   "cell_type": "markdown",
   "metadata": {},
   "source": [
    "## Data Fetching"
   ]
  },
  {
   "cell_type": "code",
   "execution_count": null,
   "metadata": {
    "collapsed": false
   },
   "outputs": [],
   "source": [
    "# Read the main file into DataFrames\n",
    "df_main = pd.read_csv('output_csv-1-7-17.csv')\n",
    "\n",
    "# Read the school files into DataFrames\n",
    "df_public_school = pd.read_csv('Public_Schools.csv')\n",
    "df_ind_school = pd.read_csv('Independent_Schools.csv')\n",
    "df_cap_gain_school = pd.read_csv('Capital_Gains_Schools.csv')\n",
    "# Lat/Long not included in this file\n",
    "#df_charter_school = pd.read_csv('Charter_Schools.csv')\n",
    "\n",
    "# Read the grocery store file into DataFrames\n",
    "df_grocery = pd.read_csv('Grocery_Store_Locations.csv')\n",
    "\n",
    "# Read the Metro data files into DataFrames\n",
    "df_metro_bus = pd.read_csv('Metro_Bus_Stops.csv')\n",
    "df_metro_station = pd.read_csv('Metro_Station_Entrances_Regional.csv')"
   ]
  },
  {
   "cell_type": "markdown",
   "metadata": {},
   "source": [
    "## Data Wrangling"
   ]
  },
  {
   "cell_type": "code",
   "execution_count": null,
   "metadata": {
    "collapsed": false
   },
   "outputs": [],
   "source": [
    "df_main.head()"
   ]
  },
  {
   "cell_type": "code",
   "execution_count": null,
   "metadata": {
    "collapsed": false
   },
   "outputs": [],
   "source": [
    "# Rename columns to aid in matching/calculations\n",
    "df_ind_school = df_ind_school.rename(columns = {'X':'Longitude'})\n",
    "df_ind_school = df_ind_school.rename(columns = {'Y':'Latitude'})\n",
    "\n",
    "df_grocery = df_grocery.rename(columns = {'X':'Longitude'})\n",
    "df_grocery = df_grocery.rename(columns = {'Y':'Latitude'})\n",
    "\n",
    "df_metro_station = df_metro_station.rename(columns = {'X':'Longitude'})\n",
    "df_metro_station = df_metro_station.rename(columns = {'Y':'Latitude'})"
   ]
  },
  {
   "cell_type": "code",
   "execution_count": null,
   "metadata": {
    "collapsed": true
   },
   "outputs": [],
   "source": [
    "# Zipping lat/long together in respective dataframes for calculations\n",
    "df_main['coord'] = zip(df_main['PropertyLatitude'],df_main['PropertyLongitude'])\n",
    "\n",
    "df_public_school['coord'] = zip(df_public_school['LATITUDE'],df_public_school['LONGITUDE'])\n",
    "df_ind_school['coord'] = zip(df_ind_school['Latitude'],df_ind_school['Longitude'])\n",
    "df_cap_gain_school['coord'] = zip(df_cap_gain_school['LATITUDE'],df_cap_gain_school['LONGITUDE'])\n",
    "\n",
    "df_grocery['coord'] = zip(df_grocery['Latitude'],df_grocery['Longitude'])\n",
    "df_metro_bus['coord'] = zip(df_metro_bus['LATITUDE'],df_metro_bus['LONGITUDE'])\n",
    "df_metro_station['coord'] = zip(df_metro_station['Latitude'],df_metro_station['Longitude'])"
   ]
  },
  {
   "cell_type": "code",
   "execution_count": null,
   "metadata": {
    "collapsed": true
   },
   "outputs": [],
   "source": [
    "df_main_distances = df_main[['Address','PropertyLongitude','PropertyLatitude']]"
   ]
  },
  {
   "cell_type": "code",
   "execution_count": null,
   "metadata": {
    "collapsed": false
   },
   "outputs": [],
   "source": [
    "# Shortest distance mapping for grocery stores\n",
    "lst_distance = []\n",
    "lst_count = []\n",
    "\n",
    "# Start clock for run time\n",
    "start = time.time()\n",
    "\n",
    "for i in df_main['coord']:\n",
    "    y = [vincenty(i, x).km for x in df_grocery['coord']]\n",
    "    lst_distance.append(min(y))\n",
    "    z = [a for a in y if a <= 1]\n",
    "    lst_count.append(len(z))   \n",
    "\n",
    "df_main_distances['distance_grocery_km'] = lst_distance\n",
    "df_main_distances['count_grocery_km'] = lst_count\n",
    "df_main_distances.to_csv('df_main_distances_grocery.csv')\n",
    "\n",
    "# Print run time\n",
    "print \"\\nProcessing took {:0.3f} seconds\\n\".format(time.time()-start) "
   ]
  },
  {
   "cell_type": "code",
   "execution_count": null,
   "metadata": {
    "collapsed": false
   },
   "outputs": [],
   "source": [
    "# Shortest distance mapping for metro station entrances\n",
    "lst_distance = []\n",
    "lst_count = []\n",
    "\n",
    "# Start clock for run time\n",
    "start = time.time()\n",
    "\n",
    "for i in df_main['coord']:\n",
    "    y = [vincenty(i, x).km for x in df_metro_station['coord']]\n",
    "    lst_distance.append(min(y))\n",
    "    z = [a for a in y if a <= 1]\n",
    "    lst_count.append(len(z))    \n",
    "\n",
    "df_main_distances['distance_metro_station_km'] = lst_distance\n",
    "df_main_distances['count_metro_station_km'] = lst_count\n",
    "df_main_distances.to_csv('df_main_distances_metro_station.csv')\n",
    "\n",
    "# Print run time\n",
    "print \"\\nProcessing took {:0.3f} seconds\\n\".format(time.time()-start)"
   ]
  },
  {
   "cell_type": "code",
   "execution_count": null,
   "metadata": {
    "collapsed": false
   },
   "outputs": [],
   "source": [
    "df_public_school_active = df_public_school[df_public_school['STATUS']=='Active']"
   ]
  },
  {
   "cell_type": "code",
   "execution_count": null,
   "metadata": {
    "collapsed": false
   },
   "outputs": [],
   "source": [
    "df_public_school_active['FACUSE'].unique()"
   ]
  },
  {
   "cell_type": "code",
   "execution_count": null,
   "metadata": {
    "collapsed": false
   },
   "outputs": [],
   "source": [
    "df_public_school_active.replace(['High School//Specialized'], ['High School/Specialized'], inplace=True)"
   ]
  },
  {
   "cell_type": "code",
   "execution_count": null,
   "metadata": {
    "collapsed": false
   },
   "outputs": [],
   "source": [
    "df_public_school_active['FACUSE'].unique()"
   ]
  },
  {
   "cell_type": "code",
   "execution_count": null,
   "metadata": {
    "collapsed": true
   },
   "outputs": [],
   "source": [
    "df_public_school_mid = df_public_school_active[df_public_school_active['FACUSE']=='Middle School']\n",
    "df_public_school_elem = df_public_school_active[df_public_school_active['FACUSE']=='Elementary School']\n",
    "df_public_school_ye = df_public_school_active[df_public_school_active['FACUSE']=='Youth Engagement']   \n",
    "df_public_school_high = df_public_school_active[df_public_school_active['FACUSE']=='High School']\n",
    "df_public_school_high_specialized = df_public_school_active[df_public_school_active['FACUSE']=='High School/Specialized']\n",
    "df_public_school_edu_campus = df_public_school_active[df_public_school_active['FACUSE']=='Education Campus']\n",
    "df_public_school_arts_center = df_public_school_active[df_public_school_active['FACUSE']=='Arts Center']\n",
    "df_public_school_elem_specialized = df_public_school_active[df_public_school_active['FACUSE']=='Elementary School/Specialized']\n",
    "df_public_school_special_ed = df_public_school_active[df_public_school_active['FACUSE']=='Special Education']"
   ]
  },
  {
   "cell_type": "code",
   "execution_count": null,
   "metadata": {
    "collapsed": false
   },
   "outputs": [],
   "source": [
    "# Shortest distance mapping for middle schools\n",
    "lst_distance = []\n",
    "lst_count = []\n",
    "\n",
    "# Start clock for run time\n",
    "start = time.time()\n",
    "\n",
    "for i in df_main['coord']:\n",
    "    y = [vincenty(i, x).km for x in df_public_school_mid['coord']]    \n",
    "    lst_distance.append(min(y))    \n",
    "    z = [a for a in y if a <= 1]\n",
    "    lst_count.append(len(z))    \n",
    "\n",
    "df_main_distances['distance_public_school_mid_km'] = lst_distance\n",
    "df_main_distances['count_public_school_mid_km'] = lst_count\n",
    "df_main_distances.to_csv('df_main_distances_public_school_mid.csv')\n",
    "\n",
    "# Print run time\n",
    "print \"\\nProcessing took {:0.3f} seconds\\n\".format(time.time()-start)"
   ]
  },
  {
   "cell_type": "code",
   "execution_count": null,
   "metadata": {
    "collapsed": false
   },
   "outputs": [],
   "source": [
    "# Shortest distance mapping for elementary schools\n",
    "lst_distance = []\n",
    "lst_count = []\n",
    "\n",
    "# Start clock for run time\n",
    "start = time.time()\n",
    "\n",
    "for i in df_main['coord']:\n",
    "    y = [vincenty(i, x).km for x in df_public_school_elem['coord']]    \n",
    "    lst_distance.append(min(y))    \n",
    "    z = [a for a in y if a <= 1]\n",
    "    lst_count.append(len(z))    \n",
    "\n",
    "df_main_distances['distance_public_school_elem_km'] = lst_distance\n",
    "df_main_distances['count_public_school_elem_km'] = lst_count\n",
    "df_main_distances.to_csv('df_main_distances_public_school_elem.csv')\n",
    "\n",
    "# Print run time\n",
    "print \"\\nProcessing took {:0.3f} seconds\\n\".format(time.time()-start)"
   ]
  },
  {
   "cell_type": "code",
   "execution_count": null,
   "metadata": {
    "collapsed": false
   },
   "outputs": [],
   "source": [
    "# Shortest distance mapping for youth engagement schools\n",
    "lst_distance = []\n",
    "lst_count = []\n",
    "\n",
    "# Start clock for run time\n",
    "start = time.time()\n",
    "\n",
    "for i in df_main['coord']:\n",
    "    y = [vincenty(i, x).km for x in df_public_school_ye['coord']]    \n",
    "    lst_distance.append(min(y))    \n",
    "    z = [a for a in y if a <= 1]\n",
    "    lst_count.append(len(z))    \n",
    "\n",
    "df_main_distances['distance_public_school_ye_km'] = lst_distance\n",
    "df_main_distances['count_public_school_ye_km'] = lst_count\n",
    "df_main_distances.to_csv('df_main_distances_public_school_ye.csv')\n",
    "\n",
    "# Print run time\n",
    "print \"\\nProcessing took {:0.3f} seconds\\n\".format(time.time()-start)"
   ]
  },
  {
   "cell_type": "code",
   "execution_count": null,
   "metadata": {
    "collapsed": false
   },
   "outputs": [],
   "source": [
    "# Shortest distance mapping for high schools\n",
    "lst_distance = []\n",
    "lst_count = []\n",
    "\n",
    "# Start clock for run time\n",
    "start = time.time()\n",
    "\n",
    "for i in df_main['coord']:\n",
    "    y = [vincenty(i, x).km for x in df_public_school_high['coord']]    \n",
    "    lst_distance.append(min(y))    \n",
    "    z = [a for a in y if a <= 1]\n",
    "    lst_count.append(len(z))    \n",
    "\n",
    "df_main_distances['distance_public_school_high_km'] = lst_distance\n",
    "df_main_distances['count_public_school_high_km'] = lst_count\n",
    "df_main_distances.to_csv('df_main_distances_public_school_high.csv')\n",
    "\n",
    "# Print run time\n",
    "print \"\\nProcessing took {:0.3f} seconds\\n\".format(time.time()-start)"
   ]
  },
  {
   "cell_type": "code",
   "execution_count": null,
   "metadata": {
    "collapsed": false
   },
   "outputs": [],
   "source": [
    "# Shortest distance mapping for specialized high schools\n",
    "lst_distance = []\n",
    "lst_count = []\n",
    "\n",
    "# Start clock for run time\n",
    "start = time.time()\n",
    "\n",
    "for i in df_main['coord']:\n",
    "    y = [vincenty(i, x).km for x in df_public_school_high_specialized['coord']]    \n",
    "    lst_distance.append(min(y))   \n",
    "    z = [a for a in y if a <= 1]\n",
    "    lst_count.append(len(z))    \n",
    "\n",
    "df_main_distances['distance_public_school_high_specialized_km'] = lst_distance\n",
    "df_main_distances['count_public_school_high_specialized_km'] = lst_count\n",
    "df_main_distances.to_csv('df_main_distances_public_school_high_specialized.csv')\n",
    "\n",
    "# Print run time\n",
    "print \"\\nProcessing took {:0.3f} seconds\\n\".format(time.time()-start)"
   ]
  },
  {
   "cell_type": "code",
   "execution_count": null,
   "metadata": {
    "collapsed": false
   },
   "outputs": [],
   "source": [
    "# Shortest distance mapping for education campus schools\n",
    "lst_distance = []\n",
    "lst_count = []\n",
    "\n",
    "# Start clock for run time\n",
    "start = time.time()\n",
    "\n",
    "for i in df_main['coord']:\n",
    "    y = [vincenty(i, x).km for x in df_public_school_edu_campus['coord']]    \n",
    "    lst_distance.append(min(y))    \n",
    "    z = [a for a in y if a <= 1]\n",
    "    lst_count.append(len(z))    \n",
    "\n",
    "df_main_distances['distance_public_school_edu_campus_km'] = lst_distance\n",
    "df_main_distances['count_public_school_edu_campus_km'] = lst_count\n",
    "df_main_distances.to_csv('df_main_distances_public_school_edu_campus.csv')\n",
    "\n",
    "# Print run time\n",
    "print \"\\nProcessing took {:0.3f} seconds\\n\".format(time.time()-start)"
   ]
  },
  {
   "cell_type": "code",
   "execution_count": null,
   "metadata": {
    "collapsed": false
   },
   "outputs": [],
   "source": [
    "# Shortest distance mapping for arts centers schools\n",
    "lst_distance = []\n",
    "lst_count = []\n",
    "\n",
    "# Start clock for run time\n",
    "start = time.time()\n",
    "\n",
    "for i in df_main['coord']:\n",
    "    y = [vincenty(i, x).km for x in df_public_school_arts_center['coord']]    \n",
    "    lst_distance.append(min(y))    \n",
    "    z = [a for a in y if a <= 1]\n",
    "    lst_count.append(len(z))    \n",
    "\n",
    "df_main_distances['distance_public_school_arts_center_km'] = lst_distance\n",
    "df_main_distances['count_public_school_arts_center_km'] = lst_count\n",
    "df_main_distances.to_csv('df_main_distances_public_school_arts_center.csv')\n",
    "\n",
    "# Print run time\n",
    "print \"\\nProcessing took {:0.3f} seconds\\n\".format(time.time()-start)"
   ]
  },
  {
   "cell_type": "code",
   "execution_count": null,
   "metadata": {
    "collapsed": false
   },
   "outputs": [],
   "source": [
    "# Shortest distance mapping for specialized elementary schools\n",
    "lst_distance = []\n",
    "lst_count = []\n",
    "\n",
    "# Start clock for run time\n",
    "start = time.time()\n",
    "\n",
    "for i in df_main['coord']:\n",
    "    y = [vincenty(i, x).km for x in df_public_school_elem_specialized['coord']]    \n",
    "    lst_distance.append(min(y))    \n",
    "    z = [a for a in y if a <= 1]\n",
    "    lst_count.append(len(z))    \n",
    "\n",
    "df_main_distances['distance_public_school_elem_specialized_km'] = lst_distance\n",
    "df_main_distances['count_public_school_elem_specialized_km'] = lst_count\n",
    "df_main_distances.to_csv('df_main_distances_public_school_elem_specialized.csv')\n",
    "\n",
    "# Print run time\n",
    "print \"\\nProcessing took {:0.3f} seconds\\n\".format(time.time()-start)"
   ]
  },
  {
   "cell_type": "code",
   "execution_count": null,
   "metadata": {
    "collapsed": false
   },
   "outputs": [],
   "source": [
    "# Shortest distance mapping for special education schools\n",
    "lst_distance = []\n",
    "lst_count = []\n",
    "\n",
    "# Start clock for run time\n",
    "start = time.time()\n",
    "\n",
    "for i in df_main['coord']:\n",
    "    y = [vincenty(i, x).km for x in df_public_school_special_ed['coord']]    \n",
    "    lst_distance.append(min(y))    \n",
    "    z = [a for a in y if a <= 1]\n",
    "    lst_count.append(len(z))    \n",
    "\n",
    "df_main_distances['distance_public_school_special_ed_km'] = lst_distance\n",
    "df_main_distances['count_public_school_special_ed_km'] = lst_count\n",
    "df_main_distances.to_csv('df_main_distances_public_school_special_ed.csv')\n",
    "\n",
    "# Print run time\n",
    "print \"\\nProcessing took {:0.3f} seconds\\n\".format(time.time()-start)"
   ]
  },
  {
   "cell_type": "code",
   "execution_count": null,
   "metadata": {
    "collapsed": false
   },
   "outputs": [],
   "source": [
    "# Shortest distance mapping for capital gains schools\n",
    "lst_distance = []\n",
    "lst_count = []\n",
    "\n",
    "# Start clock for run time\n",
    "start = time.time()\n",
    "\n",
    "for i in df_main['coord']:\n",
    "    y = [vincenty(i, x).km for x in df_cap_gain_school['coord']]    \n",
    "    lst_distance.append(min(y))    \n",
    "    z = [a for a in y if a <= 1]\n",
    "    lst_count.append(len(z))    \n",
    "\n",
    "df_main_distances['distance_cap_gain_school_km'] = lst_distance\n",
    "df_main_distances['count_cap_gain_school_km'] = lst_count\n",
    "df_main_distances.to_csv('df_main_distances_cap_gain_school.csv')\n",
    "\n",
    "# Print run time\n",
    "print \"\\nProcessing took {:0.3f} seconds\\n\".format(time.time()-start)"
   ]
  },
  {
   "cell_type": "code",
   "execution_count": null,
   "metadata": {
    "collapsed": false
   },
   "outputs": [],
   "source": [
    "# Shortest distance mapping for independent schools\n",
    "lst_distance = []\n",
    "lst_count = []\n",
    "\n",
    "# Start clock for run time\n",
    "start = time.time()\n",
    "\n",
    "for i in df_main['coord']:\n",
    "    y = [vincenty(i, x).km for x in df_ind_school['coord']]    \n",
    "    lst_distance.append(min(y))    \n",
    "    z = [a for a in y if a <= 1]\n",
    "    lst_count.append(len(z))    \n",
    "\n",
    "df_main_distances['distance_ind_school_km'] = lst_distance\n",
    "df_main_distances['count_ind_school_km'] = lst_count\n",
    "df_main_distances.to_csv('df_main_distances_ind_school.csv')\n",
    "\n",
    "# Print run time\n",
    "print \"\\nProcessing took {:0.3f} seconds\\n\".format(time.time()-start)"
   ]
  },
  {
   "cell_type": "code",
   "execution_count": null,
   "metadata": {
    "collapsed": false
   },
   "outputs": [],
   "source": [
    "### This one is expected to take a very long time (51,000 addresses*10,500 bus stops)\n",
    "# Shortest distance mapping for metro bus stops\n",
    "lst_distance = []\n",
    "lst_count = []\n",
    "\n",
    "# Start clock for run time\n",
    "start = time.time()\n",
    "\n",
    "for i in df_main['coord']:\n",
    "    y = [vincenty(i, x).km for x in df_metro_bus['coord']]    \n",
    "    lst_distance.append(min(y))    \n",
    "    z = [a for a in y if a <= 1]\n",
    "    lst_count.append(len(z))    \n",
    "\n",
    "df_main_distances['distance_metro_bus_km'] = lst_distance\n",
    "df_main_distances['count_metro_bus_km'] = lst_count\n",
    "df_main_distances.to_csv('df_main_distances_metro_bus.csv')\n",
    "\n",
    "# Print run time\n",
    "print \"\\nProcessing took {:0.3f} seconds\\n\".format(time.time()-start)"
   ]
  },
  {
   "cell_type": "code",
   "execution_count": null,
   "metadata": {
    "collapsed": false
   },
   "outputs": [],
   "source": [
    "df_main_distances['distance_metro_bus_km'].head()"
   ]
  },
  {
   "cell_type": "code",
   "execution_count": null,
   "metadata": {
    "collapsed": true
   },
   "outputs": [],
   "source": [
    "df_main_distances.to_csv('df_main_distances.csv')"
   ]
  },
  {
   "cell_type": "code",
   "execution_count": null,
   "metadata": {
    "collapsed": true
   },
   "outputs": [],
   "source": []
  }
 ],
 "metadata": {
  "anaconda-cloud": {},
  "kernelspec": {
   "display_name": "Python [Root]",
   "language": "python",
   "name": "Python [Root]"
  },
  "language_info": {
   "codemirror_mode": {
    "name": "ipython",
    "version": 3
   },
   "file_extension": ".py",
   "mimetype": "text/x-python",
   "name": "python",
   "nbconvert_exporter": "python",
   "pygments_lexer": "ipython3",
   "version": "3.5.2"
  },
  "widgets": {
   "state": {},
   "version": "1.1.2"
  }
 },
 "nbformat": 4,
 "nbformat_minor": 0
}
